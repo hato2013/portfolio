{
 "cells": [
  {
   "cell_type": "code",
   "execution_count": 4,
   "metadata": {},
   "outputs": [],
   "source": [
    "import numpy as np\n",
    "import pandas as pd\n",
    "import matplotlib.pyplot as plt\n",
    "from keras.models import Sequential\n",
    "from keras.layers import Dense,  LSTM\n",
    "from keras import metrics\n",
    "from sklearn.preprocessing import MinMaxScaler"
   ]
  },
  {
   "cell_type": "code",
   "execution_count": 5,
   "metadata": {},
   "outputs": [],
   "source": [
    "# import libraries\n",
    "import quandl\n",
    "import matplotlib.pyplot as plt\n",
    "# put your api key\n",
    "quandl.ApiConfig.api_key = 'vH-1ocJiGzdqi5byHY4k'\n",
    "# load the data\n",
    "df = quandl.get(\"BITFINEX/BTCJPY\")"
   ]
  },
  {
   "cell_type": "code",
   "execution_count": 11,
   "metadata": {},
   "outputs": [
    {
     "data": {
      "text/html": [
       "<div>\n",
       "<style scoped>\n",
       "    .dataframe tbody tr th:only-of-type {\n",
       "        vertical-align: middle;\n",
       "    }\n",
       "\n",
       "    .dataframe tbody tr th {\n",
       "        vertical-align: top;\n",
       "    }\n",
       "\n",
       "    .dataframe thead th {\n",
       "        text-align: right;\n",
       "    }\n",
       "</style>\n",
       "<table border=\"1\" class=\"dataframe\">\n",
       "  <thead>\n",
       "    <tr style=\"text-align: right;\">\n",
       "      <th></th>\n",
       "      <th>High</th>\n",
       "      <th>Low</th>\n",
       "      <th>Mid</th>\n",
       "      <th>Last</th>\n",
       "      <th>Bid</th>\n",
       "      <th>Ask</th>\n",
       "      <th>Volume</th>\n",
       "    </tr>\n",
       "    <tr>\n",
       "      <th>Date</th>\n",
       "      <th></th>\n",
       "      <th></th>\n",
       "      <th></th>\n",
       "      <th></th>\n",
       "      <th></th>\n",
       "      <th></th>\n",
       "      <th></th>\n",
       "    </tr>\n",
       "  </thead>\n",
       "  <tbody>\n",
       "    <tr>\n",
       "      <th>2018-03-29</th>\n",
       "      <td>7.994363e+05</td>\n",
       "      <td>7.342434e+05</td>\n",
       "      <td>769080.0</td>\n",
       "      <td>7.706760e+05</td>\n",
       "      <td>769070.0</td>\n",
       "      <td>769090.0</td>\n",
       "      <td>11.655926</td>\n",
       "    </tr>\n",
       "    <tr>\n",
       "      <th>2018-03-30</th>\n",
       "      <td>7.710971e+05</td>\n",
       "      <td>6.955769e+05</td>\n",
       "      <td>719800.0</td>\n",
       "      <td>7.187839e+05</td>\n",
       "      <td>719790.0</td>\n",
       "      <td>719810.0</td>\n",
       "      <td>288.789982</td>\n",
       "    </tr>\n",
       "    <tr>\n",
       "      <th>2018-03-31</th>\n",
       "      <td>7.661500e+05</td>\n",
       "      <td>7.234000e+05</td>\n",
       "      <td>737820.0</td>\n",
       "      <td>7.388100e+05</td>\n",
       "      <td>737810.0</td>\n",
       "      <td>737830.0</td>\n",
       "      <td>38.338285</td>\n",
       "    </tr>\n",
       "    <tr>\n",
       "      <th>2018-04-01</th>\n",
       "      <td>7.451446e+05</td>\n",
       "      <td>6.837212e+05</td>\n",
       "      <td>722880.0</td>\n",
       "      <td>7.226900e+05</td>\n",
       "      <td>722640.0</td>\n",
       "      <td>723120.0</td>\n",
       "      <td>76.712521</td>\n",
       "    </tr>\n",
       "    <tr>\n",
       "      <th>2018-04-02</th>\n",
       "      <td>7.552932e+05</td>\n",
       "      <td>7.212312e+05</td>\n",
       "      <td>743760.0</td>\n",
       "      <td>7.416444e+05</td>\n",
       "      <td>743750.0</td>\n",
       "      <td>743770.0</td>\n",
       "      <td>54.832632</td>\n",
       "    </tr>\n",
       "    <tr>\n",
       "      <th>...</th>\n",
       "      <td>...</td>\n",
       "      <td>...</td>\n",
       "      <td>...</td>\n",
       "      <td>...</td>\n",
       "      <td>...</td>\n",
       "      <td>...</td>\n",
       "      <td>...</td>\n",
       "    </tr>\n",
       "    <tr>\n",
       "      <th>2021-03-20</th>\n",
       "      <td>6.535400e+06</td>\n",
       "      <td>6.295900e+06</td>\n",
       "      <td>6366450.0</td>\n",
       "      <td>6.363600e+06</td>\n",
       "      <td>6366300.0</td>\n",
       "      <td>6366600.0</td>\n",
       "      <td>199.009028</td>\n",
       "    </tr>\n",
       "    <tr>\n",
       "      <th>2021-03-21</th>\n",
       "      <td>6.381200e+06</td>\n",
       "      <td>6.034392e+06</td>\n",
       "      <td>6278500.0</td>\n",
       "      <td>6.274700e+06</td>\n",
       "      <td>6277800.0</td>\n",
       "      <td>6279200.0</td>\n",
       "      <td>302.515215</td>\n",
       "    </tr>\n",
       "    <tr>\n",
       "      <th>2021-03-22</th>\n",
       "      <td>6.358900e+06</td>\n",
       "      <td>5.845600e+06</td>\n",
       "      <td>5917250.0</td>\n",
       "      <td>5.917600e+06</td>\n",
       "      <td>5916900.0</td>\n",
       "      <td>5917600.0</td>\n",
       "      <td>242.728951</td>\n",
       "    </tr>\n",
       "    <tr>\n",
       "      <th>2021-03-23</th>\n",
       "      <td>6.069500e+06</td>\n",
       "      <td>5.743000e+06</td>\n",
       "      <td>5928100.0</td>\n",
       "      <td>5.927700e+06</td>\n",
       "      <td>5927600.0</td>\n",
       "      <td>5928600.0</td>\n",
       "      <td>244.350666</td>\n",
       "    </tr>\n",
       "    <tr>\n",
       "      <th>2021-03-24</th>\n",
       "      <td>6.229000e+06</td>\n",
       "      <td>5.607000e+06</td>\n",
       "      <td>5689900.0</td>\n",
       "      <td>5.688600e+06</td>\n",
       "      <td>5689800.0</td>\n",
       "      <td>5690000.0</td>\n",
       "      <td>400.124623</td>\n",
       "    </tr>\n",
       "  </tbody>\n",
       "</table>\n",
       "<p>1065 rows × 7 columns</p>\n",
       "</div>"
      ],
      "text/plain": [
       "                    High           Low        Mid          Last        Bid  \\\n",
       "Date                                                                         \n",
       "2018-03-29  7.994363e+05  7.342434e+05   769080.0  7.706760e+05   769070.0   \n",
       "2018-03-30  7.710971e+05  6.955769e+05   719800.0  7.187839e+05   719790.0   \n",
       "2018-03-31  7.661500e+05  7.234000e+05   737820.0  7.388100e+05   737810.0   \n",
       "2018-04-01  7.451446e+05  6.837212e+05   722880.0  7.226900e+05   722640.0   \n",
       "2018-04-02  7.552932e+05  7.212312e+05   743760.0  7.416444e+05   743750.0   \n",
       "...                  ...           ...        ...           ...        ...   \n",
       "2021-03-20  6.535400e+06  6.295900e+06  6366450.0  6.363600e+06  6366300.0   \n",
       "2021-03-21  6.381200e+06  6.034392e+06  6278500.0  6.274700e+06  6277800.0   \n",
       "2021-03-22  6.358900e+06  5.845600e+06  5917250.0  5.917600e+06  5916900.0   \n",
       "2021-03-23  6.069500e+06  5.743000e+06  5928100.0  5.927700e+06  5927600.0   \n",
       "2021-03-24  6.229000e+06  5.607000e+06  5689900.0  5.688600e+06  5689800.0   \n",
       "\n",
       "                  Ask      Volume  \n",
       "Date                               \n",
       "2018-03-29   769090.0   11.655926  \n",
       "2018-03-30   719810.0  288.789982  \n",
       "2018-03-31   737830.0   38.338285  \n",
       "2018-04-01   723120.0   76.712521  \n",
       "2018-04-02   743770.0   54.832632  \n",
       "...               ...         ...  \n",
       "2021-03-20  6366600.0  199.009028  \n",
       "2021-03-21  6279200.0  302.515215  \n",
       "2021-03-22  5917600.0  242.728951  \n",
       "2021-03-23  5928600.0  244.350666  \n",
       "2021-03-24  5690000.0  400.124623  \n",
       "\n",
       "[1065 rows x 7 columns]"
      ]
     },
     "execution_count": 11,
     "metadata": {},
     "output_type": "execute_result"
    }
   ],
   "source": [
    "df"
   ]
  },
  {
   "cell_type": "code",
   "execution_count": 93,
   "metadata": {},
   "outputs": [
    {
     "name": "stdout",
     "output_type": "stream",
     "text": [
      "building the model ...\n",
      "building the model ...\n",
      "Epoch 1/100\n",
      "20/20 [==============================] - 1s 10ms/step - loss: 792038.0446 - accuracy: 0.0000e+00 - val_loss: 849017.5000 - val_accuracy: 0.0000e+00\n",
      "Epoch 2/100\n",
      "20/20 [==============================] - 0s 4ms/step - loss: 571706.3170 - accuracy: 0.0000e+00 - val_loss: 539719.2500 - val_accuracy: 0.0000e+00\n",
      "Epoch 3/100\n",
      "20/20 [==============================] - 0s 3ms/step - loss: 381120.8229 - accuracy: 0.0000e+00 - val_loss: 322801.9375 - val_accuracy: 0.0000e+00\n",
      "Epoch 4/100\n",
      "20/20 [==============================] - 0s 3ms/step - loss: 280143.7009 - accuracy: 0.0000e+00 - val_loss: 264728.8438 - val_accuracy: 0.0000e+00\n",
      "Epoch 5/100\n",
      "20/20 [==============================] - 0s 3ms/step - loss: 274246.8802 - accuracy: 0.0000e+00 - val_loss: 229256.6406 - val_accuracy: 0.0000e+00\n",
      "Epoch 6/100\n",
      "20/20 [==============================] - 0s 3ms/step - loss: 257501.3527 - accuracy: 0.0000e+00 - val_loss: 229033.8125 - val_accuracy: 0.0000e+00\n",
      "Epoch 7/100\n",
      "20/20 [==============================] - 0s 4ms/step - loss: 234231.9159 - accuracy: 0.0000e+00 - val_loss: 208145.1094 - val_accuracy: 0.0000e+00\n",
      "Epoch 8/100\n",
      "20/20 [==============================] - 0s 10ms/step - loss: 248635.3787 - accuracy: 0.0000e+00 - val_loss: 154306.9531 - val_accuracy: 0.0000e+00\n",
      "Epoch 9/100\n",
      "20/20 [==============================] - 0s 3ms/step - loss: 221301.5193 - accuracy: 0.0000e+00 - val_loss: 239127.6250 - val_accuracy: 0.0000e+00\n",
      "Epoch 10/100\n",
      "20/20 [==============================] - 0s 4ms/step - loss: 228033.7842 - accuracy: 0.0000e+00 - val_loss: 193370.0000 - val_accuracy: 0.0000e+00\n",
      "Epoch 11/100\n",
      "20/20 [==============================] - 0s 4ms/step - loss: 232799.6347 - accuracy: 0.0000e+00 - val_loss: 207090.8906 - val_accuracy: 0.0000e+00\n",
      "Epoch 12/100\n",
      "20/20 [==============================] - 0s 3ms/step - loss: 212688.9196 - accuracy: 0.0000e+00 - val_loss: 204594.7031 - val_accuracy: 0.0000e+00\n",
      "Epoch 13/100\n",
      "20/20 [==============================] - 0s 3ms/step - loss: 201292.4122 - accuracy: 0.0000e+00 - val_loss: 197203.8281 - val_accuracy: 0.0000e+00\n",
      "Epoch 14/100\n",
      "20/20 [==============================] - 0s 3ms/step - loss: 202358.1875 - accuracy: 0.0000e+00 - val_loss: 181696.4062 - val_accuracy: 0.0000e+00\n",
      "Epoch 15/100\n",
      "20/20 [==============================] - 0s 3ms/step - loss: 190909.8698 - accuracy: 0.0000e+00 - val_loss: 164725.5000 - val_accuracy: 0.0000e+00\n",
      "Epoch 16/100\n",
      "20/20 [==============================] - 0s 3ms/step - loss: 218709.4836 - accuracy: 0.0000e+00 - val_loss: 142900.1562 - val_accuracy: 0.0000e+00\n",
      "Epoch 17/100\n",
      "20/20 [==============================] - 0s 3ms/step - loss: 193208.0476 - accuracy: 0.0000e+00 - val_loss: 181447.9062 - val_accuracy: 0.0000e+00\n",
      "Epoch 18/100\n",
      "20/20 [==============================] - 0s 3ms/step - loss: 198890.6927 - accuracy: 0.0000e+00 - val_loss: 194206.5156 - val_accuracy: 0.0000e+00\n",
      "Epoch 19/100\n",
      "20/20 [==============================] - 0s 3ms/step - loss: 192740.7820 - accuracy: 0.0000e+00 - val_loss: 161825.5781 - val_accuracy: 0.0000e+00\n",
      "Epoch 20/100\n",
      "20/20 [==============================] - 0s 3ms/step - loss: 222714.7470 - accuracy: 0.0000e+00 - val_loss: 152537.5781 - val_accuracy: 0.0000e+00\n",
      "Epoch 21/100\n",
      "20/20 [==============================] - 0s 3ms/step - loss: 199848.7857 - accuracy: 0.0000e+00 - val_loss: 144155.0000 - val_accuracy: 0.0000e+00\n",
      "Epoch 22/100\n",
      "20/20 [==============================] - 0s 3ms/step - loss: 197430.1711 - accuracy: 0.0000e+00 - val_loss: 148936.5469 - val_accuracy: 0.0000e+00\n",
      "Epoch 23/100\n",
      "20/20 [==============================] - 0s 3ms/step - loss: 198121.5357 - accuracy: 0.0000e+00 - val_loss: 179134.1406 - val_accuracy: 0.0000e+00\n",
      "Epoch 24/100\n",
      "20/20 [==============================] - 0s 3ms/step - loss: 197772.8080 - accuracy: 0.0000e+00 - val_loss: 156633.8281 - val_accuracy: 0.0000e+00\n",
      "Epoch 25/100\n",
      "20/20 [==============================] - 0s 3ms/step - loss: 189335.0290 - accuracy: 0.0000e+00 - val_loss: 161237.8281 - val_accuracy: 0.0000e+00\n",
      "Epoch 26/100\n",
      "20/20 [==============================] - 0s 4ms/step - loss: 199571.4784 - accuracy: 0.0000e+00 - val_loss: 145988.7969 - val_accuracy: 0.0000e+00\n",
      "Epoch 27/100\n",
      "20/20 [==============================] - 0s 4ms/step - loss: 208479.5119 - accuracy: 0.0000e+00 - val_loss: 180229.8438 - val_accuracy: 0.0000e+00\n",
      "Epoch 28/100\n",
      "20/20 [==============================] - 0s 4ms/step - loss: 197595.7850 - accuracy: 0.0000e+00 - val_loss: 178855.1719 - val_accuracy: 0.0000e+00\n",
      "Epoch 29/100\n",
      "20/20 [==============================] - 0s 4ms/step - loss: 200260.2827 - accuracy: 0.0000e+00 - val_loss: 124030.2969 - val_accuracy: 0.0000e+00\n",
      "Epoch 30/100\n",
      "20/20 [==============================] - 0s 4ms/step - loss: 193332.3757 - accuracy: 0.0000e+00 - val_loss: 180298.8281 - val_accuracy: 0.0000e+00\n",
      "Epoch 31/100\n",
      "20/20 [==============================] - 0s 3ms/step - loss: 189245.6302 - accuracy: 0.0000e+00 - val_loss: 177048.0938 - val_accuracy: 0.0000e+00\n",
      "Epoch 32/100\n",
      "20/20 [==============================] - 0s 4ms/step - loss: 191287.5365 - accuracy: 0.0000e+00 - val_loss: 186122.1250 - val_accuracy: 0.0000e+00\n",
      "Epoch 33/100\n",
      "20/20 [==============================] - 0s 5ms/step - loss: 184565.3832 - accuracy: 0.0000e+00 - val_loss: 156347.6250 - val_accuracy: 0.0000e+00\n",
      "Epoch 34/100\n",
      "20/20 [==============================] - 0s 3ms/step - loss: 193528.6332 - accuracy: 0.0000e+00 - val_loss: 155508.4531 - val_accuracy: 0.0000e+00\n",
      "Epoch 35/100\n",
      "20/20 [==============================] - 0s 4ms/step - loss: 189861.4866 - accuracy: 0.0000e+00 - val_loss: 131601.9219 - val_accuracy: 0.0000e+00\n",
      "Epoch 36/100\n",
      "20/20 [==============================] - 0s 4ms/step - loss: 189945.7537 - accuracy: 0.0000e+00 - val_loss: 176246.5781 - val_accuracy: 0.0000e+00\n",
      "Epoch 37/100\n",
      "20/20 [==============================] - 0s 5ms/step - loss: 203790.4903 - accuracy: 0.0000e+00 - val_loss: 144875.4844 - val_accuracy: 0.0000e+00\n",
      "Epoch 38/100\n",
      "20/20 [==============================] - 0s 4ms/step - loss: 179010.5811 - accuracy: 0.0000e+00 - val_loss: 136019.8281 - val_accuracy: 0.0000e+00\n",
      "Epoch 39/100\n",
      "20/20 [==============================] - 0s 3ms/step - loss: 189461.7835 - accuracy: 0.0000e+00 - val_loss: 184222.2969 - val_accuracy: 0.0000e+00\n",
      "Epoch 40/100\n",
      "20/20 [==============================] - 0s 4ms/step - loss: 191533.8199 - accuracy: 0.0000e+00 - val_loss: 197355.1406 - val_accuracy: 0.0000e+00\n",
      "Epoch 41/100\n",
      "20/20 [==============================] - 0s 3ms/step - loss: 189803.8839 - accuracy: 0.0000e+00 - val_loss: 131147.7031 - val_accuracy: 0.0000e+00\n",
      "Epoch 42/100\n",
      "20/20 [==============================] - 0s 10ms/step - loss: 189365.0193 - accuracy: 0.0000e+00 - val_loss: 157987.5000 - val_accuracy: 0.0000e+00\n",
      "Epoch 43/100\n",
      "20/20 [==============================] - 0s 3ms/step - loss: 185784.2984 - accuracy: 0.0000e+00 - val_loss: 177147.5000 - val_accuracy: 0.0000e+00\n",
      "Epoch 44/100\n",
      "20/20 [==============================] - 0s 3ms/step - loss: 195723.5856 - accuracy: 0.0000e+00 - val_loss: 175725.2656 - val_accuracy: 0.0000e+00\n",
      "Epoch 45/100\n",
      "20/20 [==============================] - 0s 3ms/step - loss: 184871.3051 - accuracy: 0.0000e+00 - val_loss: 172319.5938 - val_accuracy: 0.0000e+00\n",
      "Epoch 46/100\n",
      "20/20 [==============================] - 0s 3ms/step - loss: 183716.4263 - accuracy: 0.0000e+00 - val_loss: 203150.7812 - val_accuracy: 0.0000e+00\n",
      "Epoch 47/100\n",
      "20/20 [==============================] - 0s 3ms/step - loss: 184705.9234 - accuracy: 0.0000e+00 - val_loss: 132774.0781 - val_accuracy: 0.0000e+00\n",
      "Epoch 48/100\n",
      "20/20 [==============================] - 0s 3ms/step - loss: 179395.3549 - accuracy: 0.0000e+00 - val_loss: 131030.7422 - val_accuracy: 0.0000e+00\n",
      "Epoch 49/100\n",
      "20/20 [==============================] - 0s 3ms/step - loss: 189202.9048 - accuracy: 0.0000e+00 - val_loss: 127196.3281 - val_accuracy: 0.0000e+00\n",
      "Epoch 50/100\n",
      "20/20 [==============================] - 0s 3ms/step - loss: 195079.2567 - accuracy: 0.0000e+00 - val_loss: 143518.5000 - val_accuracy: 0.0000e+00\n",
      "Epoch 51/100\n",
      "20/20 [==============================] - 0s 3ms/step - loss: 187512.1391 - accuracy: 0.0000e+00 - val_loss: 172214.7344 - val_accuracy: 0.0000e+00\n"
     ]
    },
    {
     "name": "stdout",
     "output_type": "stream",
     "text": [
      "Epoch 52/100\n",
      "20/20 [==============================] - 0s 3ms/step - loss: 183340.2991 - accuracy: 0.0000e+00 - val_loss: 206384.1250 - val_accuracy: 0.0000e+00\n",
      "Epoch 53/100\n",
      "20/20 [==============================] - 0s 3ms/step - loss: 181404.7805 - accuracy: 0.0000e+00 - val_loss: 140337.2656 - val_accuracy: 0.0000e+00\n",
      "Epoch 54/100\n",
      "20/20 [==============================] - 0s 3ms/step - loss: 182653.2440 - accuracy: 0.0000e+00 - val_loss: 185865.4531 - val_accuracy: 0.0000e+00\n",
      "Epoch 55/100\n",
      "20/20 [==============================] - 0s 3ms/step - loss: 182569.6749 - accuracy: 0.0000e+00 - val_loss: 167529.9219 - val_accuracy: 0.0000e+00\n",
      "Epoch 56/100\n",
      "20/20 [==============================] - 0s 3ms/step - loss: 181362.3371 - accuracy: 0.0000e+00 - val_loss: 156297.3594 - val_accuracy: 0.0000e+00\n",
      "Epoch 57/100\n",
      "20/20 [==============================] - 0s 3ms/step - loss: 180773.8676 - accuracy: 0.0000e+00 - val_loss: 152641.3125 - val_accuracy: 0.0000e+00\n",
      "Epoch 58/100\n",
      "20/20 [==============================] - 0s 3ms/step - loss: 184749.7649 - accuracy: 0.0000e+00 - val_loss: 171015.2344 - val_accuracy: 0.0000e+00\n",
      "Epoch 59/100\n",
      "20/20 [==============================] - 0s 3ms/step - loss: 177225.6570 - accuracy: 0.0000e+00 - val_loss: 188720.4375 - val_accuracy: 0.0000e+00\n",
      "Epoch 60/100\n",
      "20/20 [==============================] - 0s 3ms/step - loss: 193764.7701 - accuracy: 0.0000e+00 - val_loss: 160505.7188 - val_accuracy: 0.0000e+00\n",
      "Epoch 61/100\n",
      "20/20 [==============================] - 0s 3ms/step - loss: 180225.6763 - accuracy: 0.0000e+00 - val_loss: 158649.0781 - val_accuracy: 0.0000e+00\n",
      "Epoch 62/100\n",
      "20/20 [==============================] - 0s 3ms/step - loss: 186389.2478 - accuracy: 0.0000e+00 - val_loss: 226894.6562 - val_accuracy: 0.0000e+00\n",
      "Epoch 63/100\n",
      "20/20 [==============================] - 0s 3ms/step - loss: 204252.6503 - accuracy: 0.0000e+00 - val_loss: 174791.7031 - val_accuracy: 0.0000e+00\n",
      "Epoch 64/100\n",
      "20/20 [==============================] - 0s 3ms/step - loss: 185435.4055 - accuracy: 0.0000e+00 - val_loss: 175038.5938 - val_accuracy: 0.0000e+00\n",
      "Epoch 65/100\n",
      "20/20 [==============================] - 0s 3ms/step - loss: 190078.8192 - accuracy: 0.0000e+00 - val_loss: 183230.8438 - val_accuracy: 0.0000e+00\n",
      "Epoch 66/100\n",
      "20/20 [==============================] - 0s 3ms/step - loss: 184232.8311 - accuracy: 0.0000e+00 - val_loss: 194069.0781 - val_accuracy: 0.0000e+00\n",
      "Epoch 67/100\n",
      "20/20 [==============================] - 0s 3ms/step - loss: 179955.0156 - accuracy: 0.0000e+00 - val_loss: 186839.5469 - val_accuracy: 0.0000e+00\n",
      "Epoch 68/100\n",
      "20/20 [==============================] - 0s 3ms/step - loss: 188395.9129 - accuracy: 0.0000e+00 - val_loss: 133708.6406 - val_accuracy: 0.0000e+00\n",
      "Epoch 69/100\n",
      "20/20 [==============================] - 0s 3ms/step - loss: 168854.4635 - accuracy: 0.0000e+00 - val_loss: 145402.1250 - val_accuracy: 0.0000e+00\n",
      "Epoch 70/100\n",
      "20/20 [==============================] - 0s 3ms/step - loss: 184760.8103 - accuracy: 0.0000e+00 - val_loss: 178480.3906 - val_accuracy: 0.0000e+00\n",
      "Epoch 71/100\n",
      "20/20 [==============================] - 0s 3ms/step - loss: 176764.2158 - accuracy: 0.0000e+00 - val_loss: 155787.4062 - val_accuracy: 0.0000e+00\n",
      "Epoch 72/100\n",
      "20/20 [==============================] - 0s 3ms/step - loss: 180559.3519 - accuracy: 0.0000e+00 - val_loss: 201650.4219 - val_accuracy: 0.0000e+00\n",
      "Epoch 73/100\n",
      "20/20 [==============================] - 0s 3ms/step - loss: 174820.1190 - accuracy: 0.0000e+00 - val_loss: 214328.8750 - val_accuracy: 0.0000e+00\n",
      "Epoch 74/100\n",
      "20/20 [==============================] - 0s 3ms/step - loss: 195274.6808 - accuracy: 0.0000e+00 - val_loss: 192269.7344 - val_accuracy: 0.0000e+00\n",
      "Epoch 75/100\n",
      "20/20 [==============================] - 0s 3ms/step - loss: 193755.8661 - accuracy: 0.0000e+00 - val_loss: 194812.5156 - val_accuracy: 0.0000e+00\n",
      "Epoch 76/100\n",
      "20/20 [==============================] - 0s 7ms/step - loss: 183738.5975 - accuracy: 0.0000e+00 - val_loss: 181969.6875 - val_accuracy: 0.0000e+00\n",
      "Epoch 77/100\n",
      "20/20 [==============================] - 0s 3ms/step - loss: 175473.6317 - accuracy: 0.0000e+00 - val_loss: 204954.0000 - val_accuracy: 0.0000e+00\n",
      "Epoch 78/100\n",
      "20/20 [==============================] - 0s 3ms/step - loss: 180119.0878 - accuracy: 0.0000e+00 - val_loss: 152579.3750 - val_accuracy: 0.0000e+00\n",
      "Epoch 79/100\n",
      "20/20 [==============================] - 0s 3ms/step - loss: 177607.2128 - accuracy: 0.0000e+00 - val_loss: 199962.3750 - val_accuracy: 0.0000e+00\n",
      "Epoch 80/100\n",
      "20/20 [==============================] - 0s 3ms/step - loss: 164192.1027 - accuracy: 0.0000e+00 - val_loss: 180285.8281 - val_accuracy: 0.0000e+00\n",
      "Epoch 81/100\n",
      "20/20 [==============================] - 0s 3ms/step - loss: 178294.3006 - accuracy: 0.0000e+00 - val_loss: 152850.8281 - val_accuracy: 0.0000e+00\n",
      "Epoch 82/100\n",
      "20/20 [==============================] - 0s 3ms/step - loss: 179471.3549 - accuracy: 0.0000e+00 - val_loss: 153728.7031 - val_accuracy: 0.0000e+00\n",
      "Epoch 83/100\n",
      "20/20 [==============================] - 0s 3ms/step - loss: 185498.6496 - accuracy: 0.0000e+00 - val_loss: 164661.1875 - val_accuracy: 0.0000e+00\n",
      "Epoch 84/100\n",
      "20/20 [==============================] - 0s 3ms/step - loss: 177959.8653 - accuracy: 0.0000e+00 - val_loss: 199645.8750 - val_accuracy: 0.0000e+00\n",
      "Epoch 85/100\n",
      "20/20 [==============================] - 0s 3ms/step - loss: 174020.9315 - accuracy: 0.0000e+00 - val_loss: 198297.5938 - val_accuracy: 0.0000e+00\n",
      "Epoch 86/100\n",
      "20/20 [==============================] - 0s 3ms/step - loss: 162417.1979 - accuracy: 0.0000e+00 - val_loss: 187084.2500 - val_accuracy: 0.0000e+00\n",
      "Epoch 87/100\n",
      "20/20 [==============================] - 0s 3ms/step - loss: 169420.5193 - accuracy: 0.0000e+00 - val_loss: 198015.8594 - val_accuracy: 0.0000e+00\n",
      "Epoch 88/100\n",
      "20/20 [==============================] - 0s 3ms/step - loss: 164655.4613 - accuracy: 0.0000e+00 - val_loss: 164634.4531 - val_accuracy: 0.0000e+00\n",
      "Epoch 89/100\n",
      "20/20 [==============================] - 0s 3ms/step - loss: 162986.0573 - accuracy: 0.0000e+00 - val_loss: 196489.5000 - val_accuracy: 0.0000e+00\n",
      "Epoch 90/100\n",
      "20/20 [==============================] - 0s 3ms/step - loss: 168463.4911 - accuracy: 0.0000e+00 - val_loss: 182995.1719 - val_accuracy: 0.0000e+00\n",
      "Epoch 91/100\n",
      "20/20 [==============================] - 0s 3ms/step - loss: 160851.4427 - accuracy: 0.0000e+00 - val_loss: 223315.8594 - val_accuracy: 0.0000e+00\n",
      "Epoch 92/100\n",
      "20/20 [==============================] - 0s 3ms/step - loss: 171220.0045 - accuracy: 0.0000e+00 - val_loss: 193869.9062 - val_accuracy: 0.0000e+00\n",
      "Epoch 93/100\n",
      "20/20 [==============================] - 0s 3ms/step - loss: 174857.9844 - accuracy: 0.0000e+00 - val_loss: 223379.3906 - val_accuracy: 0.0000e+00\n",
      "Epoch 94/100\n",
      "20/20 [==============================] - 0s 3ms/step - loss: 165953.9286 - accuracy: 0.0000e+00 - val_loss: 232727.9062 - val_accuracy: 0.0000e+00\n",
      "Epoch 95/100\n",
      "20/20 [==============================] - 0s 3ms/step - loss: 183182.7269 - accuracy: 0.0000e+00 - val_loss: 201951.0312 - val_accuracy: 0.0000e+00\n",
      "Epoch 96/100\n",
      "20/20 [==============================] - 0s 3ms/step - loss: 169467.4278 - accuracy: 0.0000e+00 - val_loss: 191817.5938 - val_accuracy: 0.0000e+00\n",
      "Epoch 97/100\n",
      "20/20 [==============================] - 0s 3ms/step - loss: 171102.2470 - accuracy: 0.0000e+00 - val_loss: 187624.9219 - val_accuracy: 0.0000e+00\n",
      "Epoch 98/100\n",
      "20/20 [==============================] - 0s 3ms/step - loss: 160336.9062 - accuracy: 0.0000e+00 - val_loss: 211556.0000 - val_accuracy: 0.0000e+00\n",
      "Epoch 99/100\n",
      "20/20 [==============================] - 0s 3ms/step - loss: 163952.5580 - accuracy: 0.0000e+00 - val_loss: 196596.6406 - val_accuracy: 0.0000e+00\n",
      "Epoch 100/100\n",
      "20/20 [==============================] - 0s 3ms/step - loss: 171316.7753 - accuracy: 0.0000e+00 - val_loss: 204275.4062 - val_accuracy: 0.0000e+00\n"
     ]
    }
   ],
   "source": [
    "from keras.models import Sequential\n",
    "from keras.layers.core import Dense, Dropout, Activation\n",
    "from keras.optimizers import RMSprop\n",
    "from keras.callbacks import EarlyStopping\n",
    "import pandas as pd\n",
    "from sklearn.model_selection import train_test_split\n",
    "\n",
    "batch_size = 39\n",
    "nb_epoch = 100\n",
    "\n",
    "if __name__ == '__main__':\n",
    "    X = df.loc[:,[\"High\",\"Low\",\"Mid\",\"Bid\",\"Ask\",\"Volume\"]].values\n",
    "    X = X[:-7]\n",
    "    y = df['Last'].values\n",
    "    y = y[7:]\n",
    "    X_train, X_test, y_train, y_test = train_test_split(X, y, test_size=0.2, shuffle=False)\n",
    "\n",
    "    # building the model\n",
    "    print('building the model ...')\n",
    "\n",
    "    print('building the model ...')\n",
    "\n",
    "    model = Sequential()\n",
    "\n",
    "    model.add(Dense(22, input_shape=(4,)))\n",
    "    model.add(Activation('relu'))\n",
    "    model.add(Dropout(0.2))\n",
    "\n",
    "    model.add(Dense(11))\n",
    "    model.add(Activation('relu'))\n",
    "    model.add(Dropout(0.2))\n",
    "\n",
    "    model.add(Dense(1))\n",
    "    \n",
    "    rms = RMSprop()\n",
    "    model.compile(loss='mean_absolute_error',\n",
    "                  optimizer=rms,\n",
    "                  metrics=['accuracy'])\n",
    "\n",
    "    # training\n",
    "    hist = model.fit(X_train, y_train,\n",
    "                     batch_size=batch_size,\n",
    "                     verbose=1,\n",
    "                     epochs=nb_epoch,\n",
    "                     validation_split=0.1)"
   ]
  },
  {
   "cell_type": "code",
   "execution_count": 94,
   "metadata": {},
   "outputs": [
    {
     "data": {
      "image/png": "[encoded data removed]",
      "text/plain": [
       "<Figure size 432x288 with 1 Axes>"
      ]
     },
     "metadata": {
      "needs_background": "light"
     },
     "output_type": "display_data"
    }
   ],
   "source": [
    "import matplotlib.pyplot as plt\n",
    "history_dict = hist.history\n",
    "loss_values = history_dict['loss']\n",
    "val_loss_values = history_dict['val_loss']\n",
    "epochs = range(1, len(loss_values) + 1)\n",
    "plt.plot(epochs, loss_values, 'bo', label='training loss')\n",
    "plt.plot(epochs, val_loss_values, 'b', label='Validation loss')\n",
    "plt.title('Training and validation loss')\n",
    "plt.xlabel('Epochs')\n",
    "plt.ylabel('Loss')\n",
    "plt.legend()\n",
    "plt.show()"
   ]
  },
  {
   "cell_type": "code",
   "execution_count": 95,
   "metadata": {},
   "outputs": [
    {
     "name": "stdout",
     "output_type": "stream",
     "text": [
      "7/7 [==============================] - 0s 2ms/step\n"
     ]
    }
   ],
   "source": [
    "Predict = model.predict(X_test, verbose=1)"
   ]
  },
  {
   "cell_type": "code",
   "execution_count": 96,
   "metadata": {},
   "outputs": [
    {
     "data": {
      "text/plain": [
       "array([[4645063.5],\n",
       "       [4869829. ],\n",
       "       [5001524. ],\n",
       "       [5124158.5],\n",
       "       [5145301. ],\n",
       "       [5398291.5],\n",
       "       [5434322.5]], dtype=float32)"
      ]
     },
     "execution_count": 96,
     "metadata": {},
     "output_type": "execute_result"
    }
   ],
   "source": [
    "Predict[-7:]"
   ]
  },
  {
   "cell_type": "code",
   "execution_count": 12,
   "metadata": {},
   "outputs": [
    {
     "ename": "NameError",
     "evalue": "name 'y_test' is not defined",
     "output_type": "error",
     "traceback": [
      "\u001b[1;31m---------------------------------------------------------------------------\u001b[0m",
      "\u001b[1;31mNameError\u001b[0m                                 Traceback (most recent call last)",
      "\u001b[1;32m<ipython-input-12-27d3425f7a85>\u001b[0m in \u001b[0;36m<module>\u001b[1;34m\u001b[0m\n\u001b[1;32m----> 1\u001b[1;33m \u001b[0my_test\u001b[0m\u001b[1;33m\u001b[0m\u001b[1;33m\u001b[0m\u001b[0m\n\u001b[0m",
      "\u001b[1;31mNameError\u001b[0m: name 'y_test' is not defined"
     ]
    }
   ],
   "source": [
    "y_test"
   ]
  },
  {
   "cell_type": "code",
   "execution_count": 97,
   "metadata": {},
   "outputs": [
    {
     "data": {
      "text/plain": [
       "(211,)"
      ]
     },
     "execution_count": 97,
     "metadata": {},
     "output_type": "execute_result"
    }
   ],
   "source": [
    "y_test.shape"
   ]
  },
  {
   "cell_type": "code",
   "execution_count": 105,
   "metadata": {},
   "outputs": [],
   "source": [
    "df_pre[\"predict\"] = pd.DataFrame(Predict)"
   ]
  },
  {
   "cell_type": "code",
   "execution_count": 108,
   "metadata": {},
   "outputs": [],
   "source": [
    "df_pre[\"y_test\"] = pd.DataFrame(y_test)"
   ]
  },
  {
   "cell_type": "code",
   "execution_count": 109,
   "metadata": {},
   "outputs": [
    {
     "data": {
      "text/html": [
       "<div>\n",
       "<style scoped>\n",
       "    .dataframe tbody tr th:only-of-type {\n",
       "        vertical-align: middle;\n",
       "    }\n",
       "\n",
       "    .dataframe tbody tr th {\n",
       "        vertical-align: top;\n",
       "    }\n",
       "\n",
       "    .dataframe thead th {\n",
       "        text-align: right;\n",
       "    }\n",
       "</style>\n",
       "<table border=\"1\" class=\"dataframe\">\n",
       "  <thead>\n",
       "    <tr style=\"text-align: right;\">\n",
       "      <th></th>\n",
       "      <th>predict</th>\n",
       "      <th>y_test</th>\n",
       "    </tr>\n",
       "  </thead>\n",
       "  <tbody>\n",
       "    <tr>\n",
       "      <th>0</th>\n",
       "      <td>1050995.125</td>\n",
       "      <td>1.234600e+06</td>\n",
       "    </tr>\n",
       "    <tr>\n",
       "      <th>1</th>\n",
       "      <td>1050205.250</td>\n",
       "      <td>1.234500e+06</td>\n",
       "    </tr>\n",
       "    <tr>\n",
       "      <th>2</th>\n",
       "      <td>1072718.125</td>\n",
       "      <td>1.245900e+06</td>\n",
       "    </tr>\n",
       "    <tr>\n",
       "      <th>3</th>\n",
       "      <td>1057732.250</td>\n",
       "      <td>1.209800e+06</td>\n",
       "    </tr>\n",
       "    <tr>\n",
       "      <th>4</th>\n",
       "      <td>1036291.125</td>\n",
       "      <td>1.212400e+06</td>\n",
       "    </tr>\n",
       "    <tr>\n",
       "      <th>...</th>\n",
       "      <td>...</td>\n",
       "      <td>...</td>\n",
       "    </tr>\n",
       "    <tr>\n",
       "      <th>208</th>\n",
       "      <td>5145301.000</td>\n",
       "      <td>6.358223e+06</td>\n",
       "    </tr>\n",
       "    <tr>\n",
       "      <th>209</th>\n",
       "      <td>5398291.500</td>\n",
       "      <td>6.363600e+06</td>\n",
       "    </tr>\n",
       "    <tr>\n",
       "      <th>210</th>\n",
       "      <td>5434322.500</td>\n",
       "      <td>6.274700e+06</td>\n",
       "    </tr>\n",
       "    <tr>\n",
       "      <th>211</th>\n",
       "      <td>NaN</td>\n",
       "      <td>NaN</td>\n",
       "    </tr>\n",
       "    <tr>\n",
       "      <th>212</th>\n",
       "      <td>NaN</td>\n",
       "      <td>NaN</td>\n",
       "    </tr>\n",
       "  </tbody>\n",
       "</table>\n",
       "<p>213 rows × 2 columns</p>\n",
       "</div>"
      ],
      "text/plain": [
       "         predict        y_test\n",
       "0    1050995.125  1.234600e+06\n",
       "1    1050205.250  1.234500e+06\n",
       "2    1072718.125  1.245900e+06\n",
       "3    1057732.250  1.209800e+06\n",
       "4    1036291.125  1.212400e+06\n",
       "..           ...           ...\n",
       "208  5145301.000  6.358223e+06\n",
       "209  5398291.500  6.363600e+06\n",
       "210  5434322.500  6.274700e+06\n",
       "211          NaN           NaN\n",
       "212          NaN           NaN\n",
       "\n",
       "[213 rows x 2 columns]"
      ]
     },
     "execution_count": 109,
     "metadata": {},
     "output_type": "execute_result"
    }
   ],
   "source": [
    "df_pre"
   ]
  },
  {
   "cell_type": "code",
   "execution_count": 110,
   "metadata": {},
   "outputs": [
    {
     "data": {
      "text/plain": [
       "<matplotlib.axes._subplots.AxesSubplot at 0x22385231550>"
      ]
     },
     "execution_count": 110,
     "metadata": {},
     "output_type": "execute_result"
    },
    {
     "data": {
      "image/png": "[encoded data removed]",
      "text/plain": [
       "<Figure size 432x288 with 1 Axes>"
      ]
     },
     "metadata": {
      "needs_background": "light"
     },
     "output_type": "display_data"
    }
   ],
   "source": [
    "df_pre.plot()"
   ]
  },
  {
   "cell_type": "code",
   "execution_count": 7,
   "metadata": {},
   "outputs": [
    {
     "data": {
      "text/plain": [
       "array([[7.99436287e+05, 7.34243351e+05, 7.69080000e+05, 7.69070000e+05,\n",
       "        7.69090000e+05, 1.16559261e+01],\n",
       "       [7.71097069e+05, 6.95576896e+05, 7.19800000e+05, 7.19790000e+05,\n",
       "        7.19810000e+05, 2.88789982e+02],\n",
       "       [7.66150000e+05, 7.23400000e+05, 7.37820000e+05, 7.37810000e+05,\n",
       "        7.37830000e+05, 3.83382849e+01],\n",
       "       ...,\n",
       "       [6.35890000e+06, 5.84560000e+06, 5.91725000e+06, 5.91690000e+06,\n",
       "        5.91760000e+06, 2.42728951e+02],\n",
       "       [6.06950000e+06, 5.74300000e+06, 5.92810000e+06, 5.92760000e+06,\n",
       "        5.92860000e+06, 2.44350666e+02],\n",
       "       [6.22900000e+06, 5.60700000e+06, 5.68990000e+06, 5.68980000e+06,\n",
       "        5.69000000e+06, 4.00124623e+02]])"
      ]
     },
     "execution_count": 7,
     "metadata": {},
     "output_type": "execute_result"
    }
   ],
   "source": [
    "X = df.loc[:,[\"High\",\"Low\",\"Mid\",\"Bid\",\"Ask\",\"Volume\"]].values\n",
    "X"
   ]
  },
  {
   "cell_type": "code",
   "execution_count": 8,
   "metadata": {},
   "outputs": [
    {
     "data": {
      "text/plain": [
       "array([ 770676.0395047 ,  718783.854525  ,  738809.99999988, ...,\n",
       "       5917600.        , 5927699.9999995 , 5688600.        ])"
      ]
     },
     "execution_count": 8,
     "metadata": {},
     "output_type": "execute_result"
    }
   ],
   "source": [
    "y = df['Last'].values\n",
    "y"
   ]
  },
  {
   "cell_type": "code",
   "execution_count": 13,
   "metadata": {},
   "outputs": [
    {
     "name": "stdout",
     "output_type": "stream",
     "text": [
      "(1065, 6)\n",
      "(1065,)\n"
     ]
    }
   ],
   "source": [
    "print(X.shape)\n",
    "print(y.shape)"
   ]
  },
  {
   "cell_type": "code",
   "execution_count": 16,
   "metadata": {},
   "outputs": [
    {
     "data": {
      "text/plain": [
       "array([[7.99436287e+05, 7.34243351e+05, 7.69080000e+05, 7.69070000e+05,\n",
       "        7.69090000e+05, 1.16559261e+01],\n",
       "       [7.71097069e+05, 6.95576896e+05, 7.19800000e+05, 7.19790000e+05,\n",
       "        7.19810000e+05, 2.88789982e+02],\n",
       "       [7.66150000e+05, 7.23400000e+05, 7.37820000e+05, 7.37810000e+05,\n",
       "        7.37830000e+05, 3.83382849e+01],\n",
       "       ...,\n",
       "       [6.35890000e+06, 5.84560000e+06, 5.91725000e+06, 5.91690000e+06,\n",
       "        5.91760000e+06, 2.42728951e+02],\n",
       "       [6.06950000e+06, 5.74300000e+06, 5.92810000e+06, 5.92760000e+06,\n",
       "        5.92860000e+06, 2.44350666e+02],\n",
       "       [6.22900000e+06, 5.60700000e+06, 5.68990000e+06, 5.68980000e+06,\n",
       "        5.69000000e+06, 4.00124623e+02]])"
      ]
     },
     "execution_count": 16,
     "metadata": {},
     "output_type": "execute_result"
    }
   ],
   "source": [
    "X"
   ]
  },
  {
   "cell_type": "code",
   "execution_count": null,
   "metadata": {},
   "outputs": [],
   "source": []
  }
 ],
 "metadata": {
  "kernelspec": {
   "display_name": "Python 3",
   "language": "python",
   "name": "python3"
  },
  "language_info": {
   "codemirror_mode": {
    "name": "ipython",
    "version": 3
   },
   "file_extension": ".py",
   "mimetype": "text/x-python",
   "name": "python",
   "nbconvert_exporter": "python",
   "pygments_lexer": "ipython3",
   "version": "3.7.3"
  }
 },
 "nbformat": 4,
 "nbformat_minor": 4
}
