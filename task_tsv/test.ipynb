{
 "cells": [
  {
   "cell_type": "code",
   "execution_count": 8,
   "metadata": {},
   "outputs": [],
   "source": [
    "text = \"\\napple\\tfruit:sale\\nbanana:cherry\\tfruit\\n\\tbeverage\""
   ]
  },
  {
   "cell_type": "code",
   "execution_count": 9,
   "metadata": {},
   "outputs": [],
   "source": [
    "ans = \"\\napple\\tfruit\\napple\\tsale\\nbanana\\tfruit\\ncherry\\tfruit\\n\\tbeverage\""
   ]
  },
  {
   "cell_type": "code",
   "execution_count": 20,
   "metadata": {},
   "outputs": [],
   "source": [
    "import re"
   ]
  },
  {
   "cell_type": "code",
   "execution_count": 77,
   "metadata": {},
   "outputs": [
    {
     "name": "stdout",
     "output_type": "stream",
     "text": [
      "\n",
      "apple\tfruit:sale\n",
      "banana:cherry\tfruit\n",
      "\tbeverage\n"
     ]
    }
   ],
   "source": [
    "print(text)"
   ]
  },
  {
   "cell_type": "code",
   "execution_count": 78,
   "metadata": {},
   "outputs": [
    {
     "name": "stdout",
     "output_type": "stream",
     "text": [
      "\n",
      "apple\tfruit\n",
      "apple\tsale\n",
      "banana\tfruit\n",
      "cherry\tfruit\n",
      "\tbeverage\n"
     ]
    }
   ],
   "source": [
    "print(ans)"
   ]
  },
  {
   "cell_type": "code",
   "execution_count": 107,
   "metadata": {},
   "outputs": [
    {
     "name": "stdout",
     "output_type": "stream",
     "text": [
      "12\n",
      "24\n"
     ]
    }
   ],
   "source": [
    "it1 = []\n",
    "iterator1 = re.finditer(\":\",text)\n",
    "for i,match in enumerate(iterator1):\n",
    "    it1.append(match.start())\n",
    "    print(match.start())"
   ]
  },
  {
   "cell_type": "code",
   "execution_count": 108,
   "metadata": {},
   "outputs": [
    {
     "name": "stdout",
     "output_type": "stream",
     "text": [
      "0\n",
      "17\n",
      "37\n"
     ]
    }
   ],
   "source": [
    "itn = []\n",
    "iterator2 = re.finditer(\"\\n\",text)\n",
    "for i,match in enumerate(iterator2):\n",
    "    itn.append(match.start())\n",
    "    print(match.start())"
   ]
  },
  {
   "cell_type": "code",
   "execution_count": 109,
   "metadata": {},
   "outputs": [
    {
     "name": "stdout",
     "output_type": "stream",
     "text": [
      "6\n",
      "31\n",
      "38\n"
     ]
    }
   ],
   "source": [
    "itt = []\n",
    "iterator3 = re.finditer(\"\\t\",text)\n",
    "for i,match in enumerate(iterator3):\n",
    "    itt.append(match.start())\n",
    "    print(match.start())"
   ]
  },
  {
   "cell_type": "code",
   "execution_count": 182,
   "metadata": {},
   "outputs": [
    {
     "data": {
      "text/plain": [
       "12"
      ]
     },
     "execution_count": 182,
     "metadata": {},
     "output_type": "execute_result"
    }
   ],
   "source": [
    "it1[0]"
   ]
  },
  {
   "cell_type": "code",
   "execution_count": 183,
   "metadata": {},
   "outputs": [
    {
     "data": {
      "text/plain": [
       "24"
      ]
     },
     "execution_count": 183,
     "metadata": {},
     "output_type": "execute_result"
    }
   ],
   "source": [
    "it1[1]"
   ]
  },
  {
   "cell_type": "code",
   "execution_count": 198,
   "metadata": {},
   "outputs": [],
   "source": [
    "ndifs = []\n",
    "for it in itn:\n",
    "    if it1[0]-it>0:\n",
    "        dif = it1[0]-it\n",
    "        ndifs.append(dif)"
   ]
  },
  {
   "cell_type": "code",
   "execution_count": 199,
   "metadata": {},
   "outputs": [],
   "source": [
    "tdifs = []\n",
    "for it in itt:\n",
    "    if it1[0]-it>0:\n",
    "        dif = it1[0]-it\n",
    "        tdifs.append(dif)"
   ]
  },
  {
   "cell_type": "code",
   "execution_count": 200,
   "metadata": {},
   "outputs": [
    {
     "name": "stdout",
     "output_type": "stream",
     "text": [
      "[12]\n",
      "[6]\n"
     ]
    }
   ],
   "source": [
    "print(ndifs)\n",
    "print(tdifs)"
   ]
  },
  {
   "cell_type": "code",
   "execution_count": 201,
   "metadata": {},
   "outputs": [
    {
     "data": {
      "text/plain": [
       "True"
      ]
     },
     "execution_count": 201,
     "metadata": {},
     "output_type": "execute_result"
    }
   ],
   "source": [
    "min(ndifs, tdifs, key=min) == tdifs"
   ]
  },
  {
   "cell_type": "code",
   "execution_count": 202,
   "metadata": {},
   "outputs": [
    {
     "name": "stdout",
     "output_type": "stream",
     "text": [
      "\n",
      "apple\tfruit\n",
      "apple\tsale\n",
      "banana:cherry\tfruit\n",
      "\tbeverage\n"
     ]
    }
   ],
   "source": [
    "if min(ndifs, tdifs, key=min) == tdifs:\n",
    "    text1 = text[:it1[0]]\n",
    "    search = re.search(\"\\n.*?\\t\",text1).group()\n",
    "    dst = text.replace(\":\", search, 1)\n",
    "    print(dst)\n",
    "if min(ndifs, tdifs, key=min) == ndifs:\n",
    "    text2 = text[it1[0]:]\n",
    "    search = re.search(\"\\t.*?\\n\",text2).group()\n",
    "    dst = text.replace(\":\", search, 1)\n",
    "    print(dst)"
   ]
  },
  {
   "cell_type": "code",
   "execution_count": 1,
   "metadata": {},
   "outputs": [
    {
     "ename": "SyntaxError",
     "evalue": "unexpected EOF while parsing (<ipython-input-1-e0f3956405cb>, line 1)",
     "output_type": "error",
     "traceback": [
      "\u001b[1;36m  File \u001b[1;32m\"<ipython-input-1-e0f3956405cb>\"\u001b[1;36m, line \u001b[1;32m1\u001b[0m\n\u001b[1;33m    search = re.findall((\"\\n.*?\\t\", text1)[-1]\u001b[0m\n\u001b[1;37m                                              ^\u001b[0m\n\u001b[1;31mSyntaxError\u001b[0m\u001b[1;31m:\u001b[0m unexpected EOF while parsing\n"
     ]
    }
   ],
   "source": [
    "search = re.findall((\"\\n.*?\\t\", text1)[-1]"
   ]
  },
  {
   "cell_type": "code",
   "execution_count": 203,
   "metadata": {},
   "outputs": [],
   "source": [
    "ndifs = []\n",
    "for it in itn:\n",
    "    if it1[1]-it>0:\n",
    "        dif = it1[1]-it\n",
    "        ndifs.append(dif)"
   ]
  },
  {
   "cell_type": "code",
   "execution_count": 204,
   "metadata": {},
   "outputs": [],
   "source": [
    "tdifs = []\n",
    "for it in itt:\n",
    "    if it1[1]-it>0:\n",
    "        dif = it1[1]-it\n",
    "        tdifs.append(dif)"
   ]
  },
  {
   "cell_type": "code",
   "execution_count": 205,
   "metadata": {},
   "outputs": [
    {
     "data": {
      "text/plain": [
       "True"
      ]
     },
     "execution_count": 205,
     "metadata": {},
     "output_type": "execute_result"
    }
   ],
   "source": [
    "min(ndifs, tdifs, key=min) == ndifs"
   ]
  },
  {
   "cell_type": "code",
   "execution_count": 206,
   "metadata": {},
   "outputs": [
    {
     "name": "stdout",
     "output_type": "stream",
     "text": [
      "\n",
      "apple\tfruit\n",
      "apple\tsale\n",
      "banana\tfruit\n",
      "cherry\tfruit\n",
      "\tbeverage\n"
     ]
    }
   ],
   "source": [
    "if min(ndifs, tdifs, key=min) == tdifs:\n",
    "    text1 = dst[:it1[1]]\n",
    "    search = re.search(\"\\n.*?\\t\",text1).group()\n",
    "    dst2 = dst.replace(\":\", search, 1)\n",
    "    print(dst2)\n",
    "if min(ndifs, tdifs, key=min) == ndifs:\n",
    "    text2 = dst[it1[1]:]\n",
    "    search = re.search(\"\\t.*?\\n\",text2).group()\n",
    "    dst2 = dst.replace(\":\", search, 1)\n",
    "    print(dst2)"
   ]
  },
  {
   "cell_type": "code",
   "execution_count": 210,
   "metadata": {},
   "outputs": [
    {
     "name": "stdout",
     "output_type": "stream",
     "text": [
      "\n",
      "apple\tfruit\n",
      "apple\tsale\n",
      "banana\tfruit\n",
      "cherry\tfruit\n",
      "\tbeverage\n"
     ]
    }
   ],
   "source": [
    "for i in range(len(it1)):\n",
    "    ndifs = []\n",
    "    tdifs = []\n",
    "    for it in itn:\n",
    "        if it1[i]-it>0:\n",
    "            dif = it1[i]-it\n",
    "            ndifs.append(dif)\n",
    "    for it in itt:\n",
    "        if it1[i]-it>0:\n",
    "            dif = it1[i]-it\n",
    "            tdifs.append(dif)\n",
    "    if min(ndifs, tdifs, key=min) == tdifs:\n",
    "        text1 = text[:it1[i]]\n",
    "        search = re.search(\"\\n.*?\\t\",text1).group()\n",
    "        text = text.replace(\":\", search, 1)\n",
    "    if min(ndifs, tdifs, key=min) == ndifs:\n",
    "        text2 = text[it1[i]:]\n",
    "        search = re.search(\"\\t.*?\\n\",text2).group()\n",
    "        text = text.replace(\":\", search, 1)\n",
    "print(text)"
   ]
  },
  {
   "cell_type": "code",
   "execution_count": 161,
   "metadata": {},
   "outputs": [],
   "source": [
    "text1 = text[:it1[0]]\n",
    "text2 = text[it1[1]:]"
   ]
  },
  {
   "cell_type": "code",
   "execution_count": 162,
   "metadata": {},
   "outputs": [
    {
     "data": {
      "text/plain": [
       "'\\napple\\t'"
      ]
     },
     "execution_count": 162,
     "metadata": {},
     "output_type": "execute_result"
    }
   ],
   "source": [
    "re.search(\"\\n.*?\\t\",text1).group()"
   ]
  },
  {
   "cell_type": "code",
   "execution_count": 197,
   "metadata": {},
   "outputs": [
    {
     "data": {
      "text/plain": [
       "'\\tfruit\\n'"
      ]
     },
     "execution_count": 197,
     "metadata": {},
     "output_type": "execute_result"
    }
   ],
   "source": [
    "re.search(\"\\t.*?\\n\",text2).group()"
   ]
  },
  {
   "cell_type": "code",
   "execution_count": null,
   "metadata": {},
   "outputs": [],
   "source": []
  }
 ],
 "metadata": {
  "kernelspec": {
   "display_name": "Python 3",
   "language": "python",
   "name": "python3"
  },
  "language_info": {
   "codemirror_mode": {
    "name": "ipython",
    "version": 3
   },
   "file_extension": ".py",
   "mimetype": "text/x-python",
   "name": "python",
   "nbconvert_exporter": "python",
   "pygments_lexer": "ipython3",
   "version": "3.7.3"
  }
 },
 "nbformat": 4,
 "nbformat_minor": 5
}
