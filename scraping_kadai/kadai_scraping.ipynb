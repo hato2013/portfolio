{
 "cells": [
  {
   "cell_type": "code",
   "execution_count": 72,
   "metadata": {},
   "outputs": [],
   "source": [
    "from selenium import webdriver\n",
    "from time import sleep\n",
    "import numpy as np\n",
    "import pandas as pd"
   ]
  },
  {
   "cell_type": "code",
   "execution_count": 73,
   "metadata": {},
   "outputs": [],
   "source": [
    "driver = webdriver.Chrome(r'C:\\Users\\okefu\\merukari_scraping\\chromedriver')"
   ]
  },
  {
   "cell_type": "code",
   "execution_count": 74,
   "metadata": {},
   "outputs": [],
   "source": [
    "driver.maximize_window()"
   ]
  },
  {
   "cell_type": "code",
   "execution_count": 75,
   "metadata": {},
   "outputs": [],
   "source": [
    "driver.get('https://ai-products.net/')"
   ]
  },
  {
   "cell_type": "code",
   "execution_count": 76,
   "metadata": {},
   "outputs": [],
   "source": [
    "element = driver.find_element_by_xpath('//*[@id=\"primary\"]/div[2]/section[3]/div[2]/ul/li[12]/a')\n",
    "url = element.get_attribute('href')"
   ]
  },
  {
   "cell_type": "code",
   "execution_count": 77,
   "metadata": {},
   "outputs": [],
   "source": [
    "driver.get(url)"
   ]
  },
  {
   "cell_type": "code",
   "execution_count": 57,
   "metadata": {},
   "outputs": [],
   "source": [
    "element.click()"
   ]
  },
  {
   "cell_type": "code",
   "execution_count": 20,
   "metadata": {},
   "outputs": [],
   "source": [
    "service_names = []\n",
    "for service_name in driver.find_elements_by_class_name('service'):\n",
    "    service_names.append(service_name.text)"
   ]
  },
  {
   "cell_type": "code",
   "execution_count": 21,
   "metadata": {},
   "outputs": [],
   "source": [
    "service_catches = []\n",
    "for service_catch in driver.find_elements_by_class_name('serviceCatch'):\n",
    "    service_catches.append(service_catch.text)"
   ]
  },
  {
   "cell_type": "code",
   "execution_count": 22,
   "metadata": {},
   "outputs": [],
   "source": [
    "costs = []\n",
    "for cost in driver.find_elements_by_xpath('//dl[@class=\"cost\"]/dd'):\n",
    "    costs.append(cost.text)"
   ]
  },
  {
   "cell_type": "code",
   "execution_count": 23,
   "metadata": {},
   "outputs": [],
   "source": [
    "initial_costs = []\n",
    "for initial_cost in driver.find_elements_by_xpath('//dl[@class=\"initial-cost\"]/dd'):\n",
    "    initial_costs.append(initial_cost.text)"
   ]
  },
  {
   "cell_type": "code",
   "execution_count": 24,
   "metadata": {},
   "outputs": [],
   "source": [
    "free_plans = []\n",
    "for free_plan in driver.find_elements_by_xpath('//dl[@class=\"free-plan\"]/dd'):\n",
    "    free_plans.append(free_plan.text)"
   ]
  },
  {
   "cell_type": "code",
   "execution_count": 25,
   "metadata": {},
   "outputs": [],
   "source": [
    "free_trials = []\n",
    "for free_trial in driver.find_elements_by_xpath('//dl[@class=\"free-trial\"]/dd'):\n",
    "    free_trials.append(free_trial.text)"
   ]
  },
  {
   "cell_type": "code",
   "execution_count": 26,
   "metadata": {},
   "outputs": [],
   "source": [
    "while True:\n",
    "    try:\n",
    "        service_names.remove('')\n",
    "    except ValueError:\n",
    "        break"
   ]
  },
  {
   "cell_type": "code",
   "execution_count": 27,
   "metadata": {},
   "outputs": [
    {
     "name": "stdout",
     "output_type": "stream",
     "text": [
      "23\n",
      "23\n",
      "23\n",
      "23\n",
      "23\n",
      "23\n",
      "['WinActor', 'AI×RPAソリューション', '新規開拓営業支援ツール『GeAIne（ジーン）』', 'ベステンダンク', 'RPA-OCR業務自動化サービス', 'ミラロボ マネージャー', 'ミラロボ', '完全無料の次世代RPA「マクロマン」', 'AIMC RPA導入・開発支援サービス\\u3000SynchRoid', 'RPAラーニング', 'ATgo自動テストRPA', 'Verint RPA', 'RPA定型業務ロボット自動化ソリューション\\u3000UiPath/Automate', 'RPA管理ソリューション「BPA1」', '紙帳票業務自動化ソリューション「BPA2」', 'WinActor', 'RPAチャットボット', 'FPT RPAソリューション', 'akaBot', 'BizteX cobit', 'Autoジョブ名人', 'RPA Robo-Pat（ロボパット）', 'JobAuto']\n",
      "['WinActor', 'AI×RPAソリューション\\n建築・土木業界の反復作業を自動化します。', '新規開拓営業支援ツール『GeAIne（ジーン）』', 'あらゆるルーチン作業を自動化。\\nコストを減らしてリソースにゆとりを。', 'RPA-OCR業務自動化サービス', '業務とRPAの可視化', '誰でも簡単にできるRPA', '定型業務を自動化する次世代RPA', 'AIMC RPA導入・開発支援サービス', '働き方改革の切り札と注目を集める「RPA」を効率的に習得', 'システム開発テスト自動化RPA', '画像認識と文字認識を組み合わせた独自の技術', '安価、簡単に、幅広い業務を自動化する\\nRPAソリューションを提供します', '野良ロボット解決します。\\n業務フロー可視化・分析からロボット稼働監視まで', '紙帳票業務AIにお任せしませんか？\\n帳票仕分けからOCR・RPAまでワンストップソリューション', '国内シェアNo.1 RPAソリューション「WinActor」\\n販売・導入支援サービス', 'チャット、AI、RPA連携で実現。問い合わせ受付から\\n内容の登録・回答までをワンストップで完全自動化', '業界で有数のRPA分野における技術と専門知識が集結', 'お客様のビジネスの価値を高める包括的なRPAソリューション', '国内初のクラウドRPA、\\nクラウド上でロボットが24時間365日稼働', '安定稼働で選ぶ、国産RPAソリューション', '中小企業の業務効率化・自動化を支援するRPA Robo-Pat', 'ご納得いただける価値を提供するRPAツール']\n",
      "['お問い合わせください', 'お問合せください', '4万円～/月', '2万円〜', 'OCR：月額 98,000円～\\nRPA：お問い合わせください', '月額10,000 円(税別)', '月額５万円 ／ 2ロボット', '0円', 'お問い合わせ下さい', '40,000円/月', ' 99万円/年', 'お問い合わせ下さい', 'お問い合わせ下さい', '月額 30,000円～', '月額 35,000円～', 'お問い合わせ下さい', '-', 'お問い合わせ下さい', 'お問い合わせ下さい', '10万円～（月額）', '開発版1年ライセンス\\u300060万円\\n実行版1年ライセンス\\u300018万円', '12万円～', '月額 80,000円～']\n",
      "['お問い合わせください', 'お問合せください', '15万円', 'お問い合わせください', 'OCR：0円（※設定構築作業は別途）\\nRPA：初年度標準価格900,000円～（※設定構築作業は別途）', '10,000円（税別）', '10万円（税別）', '0円', 'お問い合わせ下さい', '0円', '0円', 'お問い合わせ下さい', 'お問い合わせ下さい', 'お問い合わせ下さい', '300,000円～', 'お問い合わせ下さい', '-', 'お問い合わせ下さい', 'お問い合わせ下さい', 'お問い合わせ下さい', 'なし', '0円', '0円']\n",
      "['お問い合わせください', 'ー', 'なし', 'なし', 'なし', 'お問い合わせ下さい', 'お問い合わせ下さい', 'あり', 'お問い合わせ下さい', 'なし', 'あり', '-', 'なし', 'なし', 'なし', 'なし', '-', 'お問い合わせ下さい', 'なし', 'なし', '-', 'なし', 'なし']\n",
      "['お問い合わせください', 'ー', 'あり', 'お問い合わせください', 'OCR：なし（2か月トライアル：月額 88,000円～）\\nRPA：あり（1か月トライアル）', 'お問い合わせ下さい', 'あり', '－', 'お問い合わせ下さい', 'なし', 'あり', 'お問い合わせ下さい', 'お問い合わせ下さい', 'なし', 'なし', 'なし', '-', 'お問い合わせ下さい', 'なし', 'あり', 'お問合せください', 'あり', 'あり']\n"
     ]
    }
   ],
   "source": [
    "print(len(service_names))\n",
    "print(len(service_catches))\n",
    "print(len(costs))\n",
    "print(len(initial_costs))\n",
    "print(len(free_plans))\n",
    "print(len(free_trials))\n",
    "print(service_names)\n",
    "print(service_catches)\n",
    "print(costs)\n",
    "print(initial_costs)\n",
    "print(free_plans)\n",
    "print(free_trials)"
   ]
  },
  {
   "cell_type": "code",
   "execution_count": 28,
   "metadata": {},
   "outputs": [
    {
     "name": "stdout",
     "output_type": "stream",
     "text": [
      "                                 チャットボット名  \\\n",
      "0                                WinActor   \n",
      "1                           AI×RPAソリューション   \n",
      "2                新規開拓営業支援ツール『GeAIne（ジーン）』   \n",
      "3                                 ベステンダンク   \n",
      "4                        RPA-OCR業務自動化サービス   \n",
      "5                             ミラロボ マネージャー   \n",
      "6                                    ミラロボ   \n",
      "7                      完全無料の次世代RPA「マクロマン」   \n",
      "8           AIMC RPA導入・開発支援サービス　SynchRoid   \n",
      "9                                RPAラーニング   \n",
      "10                           ATgo自動テストRPA   \n",
      "11                             Verint RPA   \n",
      "12  RPA定型業務ロボット自動化ソリューション　UiPath/Automate   \n",
      "13                     RPA管理ソリューション「BPA1」   \n",
      "14                  紙帳票業務自動化ソリューション「BPA2」   \n",
      "15                               WinActor   \n",
      "16                             RPAチャットボット   \n",
      "17                         FPT RPAソリューション   \n",
      "18                                 akaBot   \n",
      "19                           BizteX cobit   \n",
      "20                              Autoジョブ名人   \n",
      "21                    RPA Robo-Pat（ロボパット）   \n",
      "22                                JobAuto   \n",
      "\n",
      "                                                   説明  \\\n",
      "0                                            WinActor   \n",
      "1                 AI×RPAソリューション\\n建築・土木業界の反復作業を自動化します。   \n",
      "2                            新規開拓営業支援ツール『GeAIne（ジーン）』   \n",
      "3                 あらゆるルーチン作業を自動化。\\nコストを減らしてリソースにゆとりを。   \n",
      "4                                    RPA-OCR業務自動化サービス   \n",
      "5                                          業務とRPAの可視化   \n",
      "6                                        誰でも簡単にできるRPA   \n",
      "7                                    定型業務を自動化する次世代RPA   \n",
      "8                                 AIMC RPA導入・開発支援サービス   \n",
      "9                        働き方改革の切り札と注目を集める「RPA」を効率的に習得   \n",
      "10                                    システム開発テスト自動化RPA   \n",
      "11                              画像認識と文字認識を組み合わせた独自の技術   \n",
      "12               安価、簡単に、幅広い業務を自動化する\\nRPAソリューションを提供します   \n",
      "13              野良ロボット解決します。\\n業務フロー可視化・分析からロボット稼働監視まで   \n",
      "14   紙帳票業務AIにお任せしませんか？\\n帳票仕分けからOCR・RPAまでワンストップソリューション   \n",
      "15        国内シェアNo.1 RPAソリューション「WinActor」\\n販売・導入支援サービス   \n",
      "16  チャット、AI、RPA連携で実現。問い合わせ受付から\\n内容の登録・回答までをワンストップで...   \n",
      "17                          業界で有数のRPA分野における技術と専門知識が集結   \n",
      "18                      お客様のビジネスの価値を高める包括的なRPAソリューション   \n",
      "19                国内初のクラウドRPA、\\nクラウド上でロボットが24時間365日稼働   \n",
      "20                               安定稼働で選ぶ、国産RPAソリューション   \n",
      "21                    中小企業の業務効率化・自動化を支援するRPA Robo-Pat   \n",
      "22                              ご納得いただける価値を提供するRPAツール   \n",
      "\n",
      "                                利用料金  \\\n",
      "0                         お問い合わせください   \n",
      "1                           お問合せください   \n",
      "2                             4万円～/月   \n",
      "3                               2万円〜   \n",
      "4    OCR：月額 98,000円～\\nRPA：お問い合わせください   \n",
      "5                     月額10,000 円(税別)   \n",
      "6                      月額５万円 ／ 2ロボット   \n",
      "7                                 0円   \n",
      "8                          お問い合わせ下さい   \n",
      "9                          40,000円/月   \n",
      "10                            99万円/年   \n",
      "11                         お問い合わせ下さい   \n",
      "12                         お問い合わせ下さい   \n",
      "13                       月額 30,000円～   \n",
      "14                       月額 35,000円～   \n",
      "15                         お問い合わせ下さい   \n",
      "16                                 -   \n",
      "17                         お問い合わせ下さい   \n",
      "18                         お問い合わせ下さい   \n",
      "19                         10万円～（月額）   \n",
      "20  開発版1年ライセンス　60万円\\n実行版1年ライセンス　18万円   \n",
      "21                             12万円～   \n",
      "22                       月額 80,000円～   \n",
      "\n",
      "                                                 初期費用       無料プラン  \\\n",
      "0                                          お問い合わせください  お問い合わせください   \n",
      "1                                            お問合せください           ー   \n",
      "2                                                15万円          なし   \n",
      "3                                          お問い合わせください          なし   \n",
      "4   OCR：0円（※設定構築作業は別途）\\nRPA：初年度標準価格900,000円～（※設定構築...          なし   \n",
      "5                                         10,000円（税別）   お問い合わせ下さい   \n",
      "6                                            10万円（税別）   お問い合わせ下さい   \n",
      "7                                                  0円          あり   \n",
      "8                                           お問い合わせ下さい   お問い合わせ下さい   \n",
      "9                                                  0円          なし   \n",
      "10                                                 0円          あり   \n",
      "11                                          お問い合わせ下さい           -   \n",
      "12                                          お問い合わせ下さい          なし   \n",
      "13                                          お問い合わせ下さい          なし   \n",
      "14                                          300,000円～          なし   \n",
      "15                                          お問い合わせ下さい          なし   \n",
      "16                                                  -           -   \n",
      "17                                          お問い合わせ下さい   お問い合わせ下さい   \n",
      "18                                          お問い合わせ下さい          なし   \n",
      "19                                          お問い合わせ下さい          なし   \n",
      "20                                                 なし           -   \n",
      "21                                                 0円          なし   \n",
      "22                                                 0円          なし   \n",
      "\n",
      "                                           無料トライアル  \n",
      "0                                       お問い合わせください  \n",
      "1                                                ー  \n",
      "2                                               あり  \n",
      "3                                       お問い合わせください  \n",
      "4   OCR：なし（2か月トライアル：月額 88,000円～）\\nRPA：あり（1か月トライアル）  \n",
      "5                                        お問い合わせ下さい  \n",
      "6                                               あり  \n",
      "7                                                －  \n",
      "8                                        お問い合わせ下さい  \n",
      "9                                               なし  \n",
      "10                                              あり  \n",
      "11                                       お問い合わせ下さい  \n",
      "12                                       お問い合わせ下さい  \n",
      "13                                              なし  \n",
      "14                                              なし  \n",
      "15                                              なし  \n",
      "16                                               -  \n",
      "17                                       お問い合わせ下さい  \n",
      "18                                              なし  \n",
      "19                                              あり  \n",
      "20                                        お問合せください  \n",
      "21                                              あり  \n",
      "22                                              あり  \n"
     ]
    }
   ],
   "source": [
    "df = pd.DataFrame({'サービス名': service_names,\n",
    "                   '説明': service_catches,\n",
    "                   '利用料金': costs,\n",
    "                   '初期費用': initial_costs,\n",
    "                   '無料プラン': free_plans,\n",
    "                   '無料トライアル': free_trials})\n",
    "print(df)"
   ]
  },
  {
   "cell_type": "code",
   "execution_count": 29,
   "metadata": {},
   "outputs": [
    {
     "data": {
      "text/html": [
       "<div>\n",
       "<style scoped>\n",
       "    .dataframe tbody tr th:only-of-type {\n",
       "        vertical-align: middle;\n",
       "    }\n",
       "\n",
       "    .dataframe tbody tr th {\n",
       "        vertical-align: top;\n",
       "    }\n",
       "\n",
       "    .dataframe thead th {\n",
       "        text-align: right;\n",
       "    }\n",
       "</style>\n",
       "<table border=\"1\" class=\"dataframe\">\n",
       "  <thead>\n",
       "    <tr style=\"text-align: right;\">\n",
       "      <th></th>\n",
       "      <th>チャットボット名</th>\n",
       "      <th>説明</th>\n",
       "      <th>利用料金</th>\n",
       "      <th>初期費用</th>\n",
       "      <th>無料プラン</th>\n",
       "      <th>無料トライアル</th>\n",
       "    </tr>\n",
       "  </thead>\n",
       "  <tbody>\n",
       "    <tr>\n",
       "      <th>0</th>\n",
       "      <td>WinActor</td>\n",
       "      <td>WinActor</td>\n",
       "      <td>お問い合わせください</td>\n",
       "      <td>お問い合わせください</td>\n",
       "      <td>お問い合わせください</td>\n",
       "      <td>お問い合わせください</td>\n",
       "    </tr>\n",
       "    <tr>\n",
       "      <th>1</th>\n",
       "      <td>AI×RPAソリューション</td>\n",
       "      <td>AI×RPAソリューション\\n建築・土木業界の反復作業を自動化します。</td>\n",
       "      <td>お問合せください</td>\n",
       "      <td>お問合せください</td>\n",
       "      <td>ー</td>\n",
       "      <td>ー</td>\n",
       "    </tr>\n",
       "    <tr>\n",
       "      <th>2</th>\n",
       "      <td>新規開拓営業支援ツール『GeAIne（ジーン）』</td>\n",
       "      <td>新規開拓営業支援ツール『GeAIne（ジーン）』</td>\n",
       "      <td>4万円～/月</td>\n",
       "      <td>15万円</td>\n",
       "      <td>なし</td>\n",
       "      <td>あり</td>\n",
       "    </tr>\n",
       "    <tr>\n",
       "      <th>3</th>\n",
       "      <td>ベステンダンク</td>\n",
       "      <td>あらゆるルーチン作業を自動化。\\nコストを減らしてリソースにゆとりを。</td>\n",
       "      <td>2万円〜</td>\n",
       "      <td>お問い合わせください</td>\n",
       "      <td>なし</td>\n",
       "      <td>お問い合わせください</td>\n",
       "    </tr>\n",
       "    <tr>\n",
       "      <th>4</th>\n",
       "      <td>RPA-OCR業務自動化サービス</td>\n",
       "      <td>RPA-OCR業務自動化サービス</td>\n",
       "      <td>OCR：月額 98,000円～\\nRPA：お問い合わせください</td>\n",
       "      <td>OCR：0円（※設定構築作業は別途）\\nRPA：初年度標準価格900,000円～（※設定構築...</td>\n",
       "      <td>なし</td>\n",
       "      <td>OCR：なし（2か月トライアル：月額 88,000円～）\\nRPA：あり（1か月トライアル）</td>\n",
       "    </tr>\n",
       "    <tr>\n",
       "      <th>5</th>\n",
       "      <td>ミラロボ マネージャー</td>\n",
       "      <td>業務とRPAの可視化</td>\n",
       "      <td>月額10,000 円(税別)</td>\n",
       "      <td>10,000円（税別）</td>\n",
       "      <td>お問い合わせ下さい</td>\n",
       "      <td>お問い合わせ下さい</td>\n",
       "    </tr>\n",
       "    <tr>\n",
       "      <th>6</th>\n",
       "      <td>ミラロボ</td>\n",
       "      <td>誰でも簡単にできるRPA</td>\n",
       "      <td>月額５万円 ／ 2ロボット</td>\n",
       "      <td>10万円（税別）</td>\n",
       "      <td>お問い合わせ下さい</td>\n",
       "      <td>あり</td>\n",
       "    </tr>\n",
       "    <tr>\n",
       "      <th>7</th>\n",
       "      <td>完全無料の次世代RPA「マクロマン」</td>\n",
       "      <td>定型業務を自動化する次世代RPA</td>\n",
       "      <td>0円</td>\n",
       "      <td>0円</td>\n",
       "      <td>あり</td>\n",
       "      <td>－</td>\n",
       "    </tr>\n",
       "  </tbody>\n",
       "</table>\n",
       "</div>"
      ],
      "text/plain": [
       "                   チャットボット名                                   説明  \\\n",
       "0                  WinActor                             WinActor   \n",
       "1             AI×RPAソリューション  AI×RPAソリューション\\n建築・土木業界の反復作業を自動化します。   \n",
       "2  新規開拓営業支援ツール『GeAIne（ジーン）』             新規開拓営業支援ツール『GeAIne（ジーン）』   \n",
       "3                   ベステンダンク  あらゆるルーチン作業を自動化。\\nコストを減らしてリソースにゆとりを。   \n",
       "4          RPA-OCR業務自動化サービス                     RPA-OCR業務自動化サービス   \n",
       "5               ミラロボ マネージャー                           業務とRPAの可視化   \n",
       "6                      ミラロボ                         誰でも簡単にできるRPA   \n",
       "7        完全無料の次世代RPA「マクロマン」                     定型業務を自動化する次世代RPA   \n",
       "\n",
       "                              利用料金  \\\n",
       "0                       お問い合わせください   \n",
       "1                         お問合せください   \n",
       "2                           4万円～/月   \n",
       "3                             2万円〜   \n",
       "4  OCR：月額 98,000円～\\nRPA：お問い合わせください   \n",
       "5                   月額10,000 円(税別)   \n",
       "6                    月額５万円 ／ 2ロボット   \n",
       "7                               0円   \n",
       "\n",
       "                                                初期費用       無料プラン  \\\n",
       "0                                         お問い合わせください  お問い合わせください   \n",
       "1                                           お問合せください           ー   \n",
       "2                                               15万円          なし   \n",
       "3                                         お問い合わせください          なし   \n",
       "4  OCR：0円（※設定構築作業は別途）\\nRPA：初年度標準価格900,000円～（※設定構築...          なし   \n",
       "5                                        10,000円（税別）   お問い合わせ下さい   \n",
       "6                                           10万円（税別）   お問い合わせ下さい   \n",
       "7                                                 0円          あり   \n",
       "\n",
       "                                          無料トライアル  \n",
       "0                                      お問い合わせください  \n",
       "1                                               ー  \n",
       "2                                              あり  \n",
       "3                                      お問い合わせください  \n",
       "4  OCR：なし（2か月トライアル：月額 88,000円～）\\nRPA：あり（1か月トライアル）  \n",
       "5                                       お問い合わせ下さい  \n",
       "6                                              あり  \n",
       "7                                               －  "
      ]
     },
     "execution_count": 29,
     "metadata": {},
     "output_type": "execute_result"
    }
   ],
   "source": [
    "df.head(8)"
   ]
  },
  {
   "cell_type": "code",
   "execution_count": 50,
   "metadata": {},
   "outputs": [],
   "source": [
    "df.to_csv(category+'.csv', encoding='utf_8_sig')"
   ]
  },
  {
   "cell_type": "code",
   "execution_count": 18,
   "metadata": {},
   "outputs": [],
   "source": [
    "driver.back()"
   ]
  },
  {
   "cell_type": "code",
   "execution_count": 19,
   "metadata": {},
   "outputs": [],
   "source": [
    "element = driver.find_element_by_link_text(\"RPA\")\n",
    "element.click()"
   ]
  },
  {
   "cell_type": "code",
   "execution_count": null,
   "metadata": {},
   "outputs": [],
   "source": []
  }
 ],
 "metadata": {
  "kernelspec": {
   "display_name": "Python 3",
   "language": "python",
   "name": "python3"
  },
  "language_info": {
   "codemirror_mode": {
    "name": "ipython",
    "version": 3
   },
   "file_extension": ".py",
   "mimetype": "text/x-python",
   "name": "python",
   "nbconvert_exporter": "python",
   "pygments_lexer": "ipython3",
   "version": "3.7.3"
  }
 },
 "nbformat": 4,
 "nbformat_minor": 4
}
