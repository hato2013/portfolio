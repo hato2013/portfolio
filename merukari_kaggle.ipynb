{
 "cells": [
  {
   "cell_type": "code",
   "execution_count": 1,
   "metadata": {},
   "outputs": [],
   "source": [
    "import pandas as pd\n",
    "import numpy as np"
   ]
  },
  {
   "cell_type": "code",
   "execution_count": 2,
   "metadata": {},
   "outputs": [],
   "source": [
    "types_dict_train = {'train_id':'int64', 'item_condition_id':'int8', 'price':'float64', 'shipping':'int8'}\n",
    "types_dict_test = {'test_id':'int64', 'item_condition_id':'int8', 'shipping':'int8'}\n",
    " \n",
    "# tsvファイルからPandas DataFrameへ読み込み\n",
    "train_df = pd.read_csv('train.tsv', delimiter='\\t', low_memory=True, dtype=types_dict_train)\n",
    "test_df = pd.read_csv('test_stg2.tsv', delimiter='\\t', low_memory=True, dtype=types_dict_test)\n"
   ]
  },
  {
   "cell_type": "code",
   "execution_count": 3,
   "metadata": {},
   "outputs": [
    {
     "data": {
      "text/plain": [
       "1    640549\n",
       "3    432161\n",
       "2    375479\n",
       "4     31962\n",
       "5      2384\n",
       "Name: item_condition_id, dtype: int64"
      ]
     },
     "execution_count": 3,
     "metadata": {},
     "output_type": "execute_result"
    }
   ],
   "source": [
    "train_df[\"item_condition_id\"].value_counts()"
   ]
  },
  {
   "cell_type": "code",
   "execution_count": 4,
   "metadata": {},
   "outputs": [
    {
     "data": {
      "text/plain": [
       "PINK                 54088\n",
       "Nike                 54043\n",
       "Victoria's Secret    48036\n",
       "LuLaRoe              31024\n",
       "Apple                17322\n",
       "                     ...  \n",
       "Howard Miller            1\n",
       "Christopher Blue         1\n",
       "Olian                    1\n",
       "JNCO                     1\n",
       "Tickled Pink Tees        1\n",
       "Name: brand_name, Length: 4809, dtype: int64"
      ]
     },
     "execution_count": 4,
     "metadata": {},
     "output_type": "execute_result"
    }
   ],
   "source": [
    "train_df[\"brand_name\"].value_counts()"
   ]
  },
  {
   "cell_type": "code",
   "execution_count": 5,
   "metadata": {},
   "outputs": [
    {
     "data": {
      "text/plain": [
       "Women/Athletic Apparel/Pants, Tights, Leggings    60177\n",
       "Women/Tops & Blouses/T-Shirts                     46380\n",
       "Beauty/Makeup/Face                                34335\n",
       "Beauty/Makeup/Lips                                29910\n",
       "Electronics/Video Games & Consoles/Games          26557\n",
       "                                                  ...  \n",
       "Handmade/Knitting/Cozy                                1\n",
       "Handmade/Patterns/Baby                                1\n",
       "Vintage & Collectibles/Furniture/Other                1\n",
       "Handmade/Knitting/Scarf                               1\n",
       "Handmade/Books and Zines/Comic                        1\n",
       "Name: category_name, Length: 1287, dtype: int64"
      ]
     },
     "execution_count": 5,
     "metadata": {},
     "output_type": "execute_result"
    }
   ],
   "source": [
    "train_df[\"category_name\"].value_counts()"
   ]
  },
  {
   "cell_type": "code",
   "execution_count": 6,
   "metadata": {},
   "outputs": [],
   "source": [
    "%matplotlib inline\n",
    "import matplotlib.pyplot as plt\n",
    "import seaborn as sns"
   ]
  },
  {
   "cell_type": "code",
   "execution_count": 7,
   "metadata": {},
   "outputs": [],
   "source": [
    "plt.style.use(\"ggplot\")"
   ]
  },
  {
   "cell_type": "code",
   "execution_count": 8,
   "metadata": {},
   "outputs": [],
   "source": [
    "all_df = pd.concat([train_df,test_df],sort=False).reset_index(drop=True)"
   ]
  },
  {
   "cell_type": "code",
   "execution_count": 9,
   "metadata": {},
   "outputs": [
    {
     "data": {
      "text/html": [
       "<div>\n",
       "<style scoped>\n",
       "    .dataframe tbody tr th:only-of-type {\n",
       "        vertical-align: middle;\n",
       "    }\n",
       "\n",
       "    .dataframe tbody tr th {\n",
       "        vertical-align: top;\n",
       "    }\n",
       "\n",
       "    .dataframe thead th {\n",
       "        text-align: right;\n",
       "    }\n",
       "</style>\n",
       "<table border=\"1\" class=\"dataframe\">\n",
       "  <thead>\n",
       "    <tr style=\"text-align: right;\">\n",
       "      <th></th>\n",
       "      <th>train_id</th>\n",
       "      <th>name</th>\n",
       "      <th>item_condition_id</th>\n",
       "      <th>category_name</th>\n",
       "      <th>brand_name</th>\n",
       "      <th>price</th>\n",
       "      <th>shipping</th>\n",
       "      <th>item_description</th>\n",
       "      <th>test_id</th>\n",
       "    </tr>\n",
       "  </thead>\n",
       "  <tbody>\n",
       "    <tr>\n",
       "      <th>0</th>\n",
       "      <td>0.0</td>\n",
       "      <td>MLB Cincinnati Reds T Shirt Size XL</td>\n",
       "      <td>3</td>\n",
       "      <td>Men/Tops/T-shirts</td>\n",
       "      <td>NaN</td>\n",
       "      <td>10.0</td>\n",
       "      <td>1</td>\n",
       "      <td>No description yet</td>\n",
       "      <td>NaN</td>\n",
       "    </tr>\n",
       "    <tr>\n",
       "      <th>1</th>\n",
       "      <td>1.0</td>\n",
       "      <td>Razer BlackWidow Chroma Keyboard</td>\n",
       "      <td>3</td>\n",
       "      <td>Electronics/Computers &amp; Tablets/Components &amp; P...</td>\n",
       "      <td>Razer</td>\n",
       "      <td>52.0</td>\n",
       "      <td>0</td>\n",
       "      <td>This keyboard is in great condition and works ...</td>\n",
       "      <td>NaN</td>\n",
       "    </tr>\n",
       "    <tr>\n",
       "      <th>2</th>\n",
       "      <td>2.0</td>\n",
       "      <td>AVA-VIV Blouse</td>\n",
       "      <td>1</td>\n",
       "      <td>Women/Tops &amp; Blouses/Blouse</td>\n",
       "      <td>Target</td>\n",
       "      <td>10.0</td>\n",
       "      <td>1</td>\n",
       "      <td>Adorable top with a hint of lace and a key hol...</td>\n",
       "      <td>NaN</td>\n",
       "    </tr>\n",
       "    <tr>\n",
       "      <th>3</th>\n",
       "      <td>3.0</td>\n",
       "      <td>Leather Horse Statues</td>\n",
       "      <td>1</td>\n",
       "      <td>Home/Home Décor/Home Décor Accents</td>\n",
       "      <td>NaN</td>\n",
       "      <td>35.0</td>\n",
       "      <td>1</td>\n",
       "      <td>New with tags. Leather horses. Retail for [rm]...</td>\n",
       "      <td>NaN</td>\n",
       "    </tr>\n",
       "    <tr>\n",
       "      <th>4</th>\n",
       "      <td>4.0</td>\n",
       "      <td>24K GOLD plated rose</td>\n",
       "      <td>1</td>\n",
       "      <td>Women/Jewelry/Necklaces</td>\n",
       "      <td>NaN</td>\n",
       "      <td>44.0</td>\n",
       "      <td>0</td>\n",
       "      <td>Complete with certificate of authenticity</td>\n",
       "      <td>NaN</td>\n",
       "    </tr>\n",
       "    <tr>\n",
       "      <th>...</th>\n",
       "      <td>...</td>\n",
       "      <td>...</td>\n",
       "      <td>...</td>\n",
       "      <td>...</td>\n",
       "      <td>...</td>\n",
       "      <td>...</td>\n",
       "      <td>...</td>\n",
       "      <td>...</td>\n",
       "      <td>...</td>\n",
       "    </tr>\n",
       "    <tr>\n",
       "      <th>4943255</th>\n",
       "      <td>NaN</td>\n",
       "      <td>DARK SAMPLE BYE FOUNDATION MOISTURIZER</td>\n",
       "      <td>1</td>\n",
       "      <td>Beauty/Fragrance/Women</td>\n",
       "      <td>NaN</td>\n",
       "      <td>NaN</td>\n",
       "      <td>1</td>\n",
       "      <td>It cosmetics Bye Bye Foundation Full Coverage ...</td>\n",
       "      <td>3460720.0</td>\n",
       "    </tr>\n",
       "    <tr>\n",
       "      <th>4943256</th>\n",
       "      <td>NaN</td>\n",
       "      <td>bundle for @brandystash</td>\n",
       "      <td>2</td>\n",
       "      <td>Women/Pants/Other</td>\n",
       "      <td>NaN</td>\n",
       "      <td>NaN</td>\n",
       "      <td>1</td>\n",
       "      <td>♡2 pairs of omighty trackiez. one m and one s....</td>\n",
       "      <td>3460721.0</td>\n",
       "    </tr>\n",
       "    <tr>\n",
       "      <th>4943257</th>\n",
       "      <td>NaN</td>\n",
       "      <td>Toddler High-top Converse</td>\n",
       "      <td>3</td>\n",
       "      <td>Kids/Girls 0-24 Mos/Shoes</td>\n",
       "      <td>Nike</td>\n",
       "      <td>NaN</td>\n",
       "      <td>0</td>\n",
       "      <td>Size 5 (toddler). Pink high top converse shoes...</td>\n",
       "      <td>3460722.0</td>\n",
       "    </tr>\n",
       "    <tr>\n",
       "      <th>4943258</th>\n",
       "      <td>NaN</td>\n",
       "      <td>Yoga Sling Sandals</td>\n",
       "      <td>1</td>\n",
       "      <td>Women/Shoes/Sandals</td>\n",
       "      <td>Sanuk</td>\n",
       "      <td>NaN</td>\n",
       "      <td>1</td>\n",
       "      <td>super super comfy. i have a pair but ordered t...</td>\n",
       "      <td>3460723.0</td>\n",
       "    </tr>\n",
       "    <tr>\n",
       "      <th>4943259</th>\n",
       "      <td>NaN</td>\n",
       "      <td>Stylish ladies M/M insulated brown coat</td>\n",
       "      <td>3</td>\n",
       "      <td>Women/Coats &amp; Jackets/Other</td>\n",
       "      <td>NaN</td>\n",
       "      <td>NaN</td>\n",
       "      <td>1</td>\n",
       "      <td>100% Genuine leather and faux fur insulated co...</td>\n",
       "      <td>3460724.0</td>\n",
       "    </tr>\n",
       "  </tbody>\n",
       "</table>\n",
       "<p>4943260 rows × 9 columns</p>\n",
       "</div>"
      ],
      "text/plain": [
       "         train_id                                     name  item_condition_id  \\\n",
       "0             0.0      MLB Cincinnati Reds T Shirt Size XL                  3   \n",
       "1             1.0         Razer BlackWidow Chroma Keyboard                  3   \n",
       "2             2.0                           AVA-VIV Blouse                  1   \n",
       "3             3.0                    Leather Horse Statues                  1   \n",
       "4             4.0                     24K GOLD plated rose                  1   \n",
       "...           ...                                      ...                ...   \n",
       "4943255       NaN   DARK SAMPLE BYE FOUNDATION MOISTURIZER                  1   \n",
       "4943256       NaN                  bundle for @brandystash                  2   \n",
       "4943257       NaN                Toddler High-top Converse                  3   \n",
       "4943258       NaN                       Yoga Sling Sandals                  1   \n",
       "4943259       NaN  Stylish ladies M/M insulated brown coat                  3   \n",
       "\n",
       "                                             category_name brand_name  price  \\\n",
       "0                                        Men/Tops/T-shirts        NaN   10.0   \n",
       "1        Electronics/Computers & Tablets/Components & P...      Razer   52.0   \n",
       "2                              Women/Tops & Blouses/Blouse     Target   10.0   \n",
       "3                       Home/Home Décor/Home Décor Accents        NaN   35.0   \n",
       "4                                  Women/Jewelry/Necklaces        NaN   44.0   \n",
       "...                                                    ...        ...    ...   \n",
       "4943255                             Beauty/Fragrance/Women        NaN    NaN   \n",
       "4943256                                  Women/Pants/Other        NaN    NaN   \n",
       "4943257                          Kids/Girls 0-24 Mos/Shoes       Nike    NaN   \n",
       "4943258                                Women/Shoes/Sandals      Sanuk    NaN   \n",
       "4943259                        Women/Coats & Jackets/Other        NaN    NaN   \n",
       "\n",
       "         shipping                                   item_description  \\\n",
       "0               1                                 No description yet   \n",
       "1               0  This keyboard is in great condition and works ...   \n",
       "2               1  Adorable top with a hint of lace and a key hol...   \n",
       "3               1  New with tags. Leather horses. Retail for [rm]...   \n",
       "4               0          Complete with certificate of authenticity   \n",
       "...           ...                                                ...   \n",
       "4943255         1  It cosmetics Bye Bye Foundation Full Coverage ...   \n",
       "4943256         1  ♡2 pairs of omighty trackiez. one m and one s....   \n",
       "4943257         0  Size 5 (toddler). Pink high top converse shoes...   \n",
       "4943258         1  super super comfy. i have a pair but ordered t...   \n",
       "4943259         1  100% Genuine leather and faux fur insulated co...   \n",
       "\n",
       "           test_id  \n",
       "0              NaN  \n",
       "1              NaN  \n",
       "2              NaN  \n",
       "3              NaN  \n",
       "4              NaN  \n",
       "...            ...  \n",
       "4943255  3460720.0  \n",
       "4943256  3460721.0  \n",
       "4943257  3460722.0  \n",
       "4943258  3460723.0  \n",
       "4943259  3460724.0  \n",
       "\n",
       "[4943260 rows x 9 columns]"
      ]
     },
     "execution_count": 9,
     "metadata": {},
     "output_type": "execute_result"
    }
   ],
   "source": [
    "all_df"
   ]
  },
  {
   "cell_type": "code",
   "execution_count": 10,
   "metadata": {},
   "outputs": [
    {
     "name": "stdout",
     "output_type": "stream",
     "text": [
      "Index(['name', 'category_name', 'brand_name', 'item_description'], dtype='object')\n"
     ]
    }
   ],
   "source": [
    "categories = all_df.columns[all_df.dtypes == \"object\"]\n",
    "print(categories)"
   ]
  },
  {
   "cell_type": "code",
   "execution_count": 11,
   "metadata": {},
   "outputs": [
    {
     "data": {
      "text/plain": [
       "train_id             3460725\n",
       "price                3460725\n",
       "brand_name           2109172\n",
       "test_id              1482535\n",
       "category_name          21160\n",
       "item_description          10\n",
       "name                       0\n",
       "item_condition_id          0\n",
       "shipping                   0\n",
       "dtype: int64"
      ]
     },
     "execution_count": 11,
     "metadata": {},
     "output_type": "execute_result"
    }
   ],
   "source": [
    "all_df.isnull().sum().sort_values(ascending=False)"
   ]
  },
  {
   "cell_type": "code",
   "execution_count": 12,
   "metadata": {},
   "outputs": [
    {
     "data": {
      "text/plain": [
       "Women/Athletic Apparel/Pants, Tights, Leggings    199589\n",
       "Women/Tops & Blouses/T-Shirts                     154714\n",
       "Beauty/Makeup/Face                                114389\n",
       "Beauty/Makeup/Lips                                 99565\n",
       "Electronics/Video Games & Consoles/Games           89134\n",
       "                                                   ...  \n",
       "Vintage & Collectibles/Furniture/Desk                  1\n",
       "Handmade/Furniture/Fixture                             1\n",
       "Handmade/Holidays/Hanukkah                             1\n",
       "Vintage & Collectibles/Furniture/Bench                 1\n",
       "Handmade/Ceramics and Pottery/Teapots                  1\n",
       "Name: category_name, Length: 1353, dtype: int64"
      ]
     },
     "execution_count": 12,
     "metadata": {},
     "output_type": "execute_result"
    }
   ],
   "source": [
    "all_df.category_name.value_counts()"
   ]
  },
  {
   "cell_type": "code",
   "execution_count": 13,
   "metadata": {},
   "outputs": [
    {
     "data": {
      "text/plain": [
       "0                                          Men/Tops/T-shirts\n",
       "1          Electronics/Computers & Tablets/Components & P...\n",
       "2                                Women/Tops & Blouses/Blouse\n",
       "3                         Home/Home Décor/Home Décor Accents\n",
       "4                                    Women/Jewelry/Necklaces\n",
       "                                 ...                        \n",
       "4943255                               Beauty/Fragrance/Women\n",
       "4943256                                    Women/Pants/Other\n",
       "4943257                            Kids/Girls 0-24 Mos/Shoes\n",
       "4943258                                  Women/Shoes/Sandals\n",
       "4943259                          Women/Coats & Jackets/Other\n",
       "Name: category_name, Length: 4943260, dtype: object"
      ]
     },
     "execution_count": 13,
     "metadata": {},
     "output_type": "execute_result"
    }
   ],
   "source": [
    "all_df[\"category_name\"]"
   ]
  },
  {
   "cell_type": "code",
   "execution_count": 14,
   "metadata": {},
   "outputs": [],
   "source": [
    "women_list = all_df['category_name'].str.contains('Women',na=False)\n",
    "men_list = all_df['category_name'].str.contains('Men',na=False)\n",
    "kids_list = all_df['category_name'].str.contains('Kids',na=False)\n",
    "elec_list = all_df['category_name'].str.contains('Electronics|Computers|Tablets|Cell Phones',na=False)\n",
    "beauty_list = all_df['category_name'].str.contains('Beauty',na=False)\n",
    "shoes_list = all_df['category_name'].str.contains('Shoes',na=False)\n",
    "chanel_list = all_df['brand_name'].str.contains('Chanel',na=False)\n",
    "david_list = all_df['brand_name'].str.contains('David Yurman',na=False)\n",
    "mary_list = all_df['brand_name'].str.contains('Mary Kay',na=False)\n",
    "apple_list = all_df['brand_name'].str.contains('Apple',na=False)\n",
    "louis_list = all_df['brand_name'].str.contains('Louis Vuitton',na=False)\n",
    "celine_list = all_df['brand_name'].str.contains('Celine',na=False)"
   ]
  },
  {
   "cell_type": "code",
   "execution_count": 15,
   "metadata": {},
   "outputs": [
    {
     "data": {
      "text/plain": [
       "0          False\n",
       "1          False\n",
       "2           True\n",
       "3          False\n",
       "4           True\n",
       "           ...  \n",
       "4943255     True\n",
       "4943256     True\n",
       "4943257    False\n",
       "4943258     True\n",
       "4943259     True\n",
       "Name: category_name, Length: 4943260, dtype: bool"
      ]
     },
     "execution_count": 15,
     "metadata": {},
     "output_type": "execute_result"
    }
   ],
   "source": [
    "women_list = all_df['category_name'].str.contains('Women',na=False)\n",
    "women_list"
   ]
  },
  {
   "cell_type": "code",
   "execution_count": 16,
   "metadata": {},
   "outputs": [],
   "source": [
    "all_df[\"sex\"] = 0"
   ]
  },
  {
   "cell_type": "code",
   "execution_count": 17,
   "metadata": {},
   "outputs": [
    {
     "name": "stderr",
     "output_type": "stream",
     "text": [
      "C:\\Users\\okefu\\Anaconda3\\lib\\site-packages\\ipykernel_launcher.py:1: SettingWithCopyWarning: \n",
      "A value is trying to be set on a copy of a slice from a DataFrame\n",
      "\n",
      "See the caveats in the documentation: https://pandas.pydata.org/pandas-docs/stable/user_guide/indexing.html#returning-a-view-versus-a-copy\n",
      "  \"\"\"Entry point for launching an IPython kernel.\n",
      "C:\\Users\\okefu\\Anaconda3\\lib\\site-packages\\ipykernel_launcher.py:2: SettingWithCopyWarning: \n",
      "A value is trying to be set on a copy of a slice from a DataFrame\n",
      "\n",
      "See the caveats in the documentation: https://pandas.pydata.org/pandas-docs/stable/user_guide/indexing.html#returning-a-view-versus-a-copy\n",
      "  \n"
     ]
    }
   ],
   "source": [
    "all_df[\"sex\"][women_list] = 1\n",
    "all_df[\"sex\"][men_list] = 2"
   ]
  },
  {
   "cell_type": "code",
   "execution_count": 18,
   "metadata": {},
   "outputs": [],
   "source": [
    "all_df[\"elec\"] = 0"
   ]
  },
  {
   "cell_type": "code",
   "execution_count": 19,
   "metadata": {},
   "outputs": [
    {
     "name": "stderr",
     "output_type": "stream",
     "text": [
      "C:\\Users\\okefu\\Anaconda3\\lib\\site-packages\\ipykernel_launcher.py:1: SettingWithCopyWarning: \n",
      "A value is trying to be set on a copy of a slice from a DataFrame\n",
      "\n",
      "See the caveats in the documentation: https://pandas.pydata.org/pandas-docs/stable/user_guide/indexing.html#returning-a-view-versus-a-copy\n",
      "  \"\"\"Entry point for launching an IPython kernel.\n"
     ]
    }
   ],
   "source": [
    "all_df[\"elec\"][elec_list] = 1"
   ]
  },
  {
   "cell_type": "code",
   "execution_count": 22,
   "metadata": {},
   "outputs": [],
   "source": [
    "all_df[\"apple\"] = 0"
   ]
  },
  {
   "cell_type": "code",
   "execution_count": 23,
   "metadata": {},
   "outputs": [
    {
     "name": "stderr",
     "output_type": "stream",
     "text": [
      "C:\\Users\\okefu\\Anaconda3\\lib\\site-packages\\ipykernel_launcher.py:1: SettingWithCopyWarning: \n",
      "A value is trying to be set on a copy of a slice from a DataFrame\n",
      "\n",
      "See the caveats in the documentation: https://pandas.pydata.org/pandas-docs/stable/user_guide/indexing.html#returning-a-view-versus-a-copy\n",
      "  \"\"\"Entry point for launching an IPython kernel.\n"
     ]
    }
   ],
   "source": [
    "all_df[\"apple\"][apple_list] = 1"
   ]
  },
  {
   "cell_type": "code",
   "execution_count": 24,
   "metadata": {},
   "outputs": [
    {
     "data": {
      "text/plain": [
       "Women/Athletic Apparel/Pants, Tights, Leggings    199589\n",
       "Women/Tops & Blouses/T-Shirts                     154714\n",
       "Beauty/Makeup/Face                                114389\n",
       "Beauty/Makeup/Lips                                 99565\n",
       "Electronics/Video Games & Consoles/Games           89134\n",
       "                                                   ...  \n",
       "Vintage & Collectibles/Furniture/Desk                  1\n",
       "Handmade/Furniture/Fixture                             1\n",
       "Handmade/Holidays/Hanukkah                             1\n",
       "Vintage & Collectibles/Furniture/Bench                 1\n",
       "Handmade/Ceramics and Pottery/Teapots                  1\n",
       "Name: category_name, Length: 1353, dtype: int64"
      ]
     },
     "execution_count": 24,
     "metadata": {},
     "output_type": "execute_result"
    }
   ],
   "source": [
    "all_df.category_name.value_counts()"
   ]
  },
  {
   "cell_type": "code",
   "execution_count": 25,
   "metadata": {},
   "outputs": [],
   "source": [
    "from sklearn.preprocessing import LabelEncoder"
   ]
  },
  {
   "cell_type": "code",
   "execution_count": 36,
   "metadata": {},
   "outputs": [],
   "source": [
    "from optuna.integration import lightgbm as lgb"
   ]
  },
  {
   "cell_type": "code",
   "execution_count": 26,
   "metadata": {},
   "outputs": [
    {
     "name": "stdout",
     "output_type": "stream",
     "text": [
      "name\n",
      "category_name\n",
      "brand_name\n",
      "item_description\n"
     ]
    }
   ],
   "source": [
    "for cat in categories:\n",
    "    le = LabelEncoder()\n",
    "    print(cat)\n",
    "    all_df[cat].fillna(\"missing\",inplace=True)\n",
    "    le = le.fit(all_df[cat])\n",
    "    all_df[cat] = le.transform(all_df[cat])\n",
    "    all_df[cat] = all_df[cat].astype(\"category\")"
   ]
  },
  {
   "cell_type": "code",
   "execution_count": 27,
   "metadata": {},
   "outputs": [
    {
     "data": {
      "text/html": [
       "<div>\n",
       "<style scoped>\n",
       "    .dataframe tbody tr th:only-of-type {\n",
       "        vertical-align: middle;\n",
       "    }\n",
       "\n",
       "    .dataframe tbody tr th {\n",
       "        vertical-align: top;\n",
       "    }\n",
       "\n",
       "    .dataframe thead th {\n",
       "        text-align: right;\n",
       "    }\n",
       "</style>\n",
       "<table border=\"1\" class=\"dataframe\">\n",
       "  <thead>\n",
       "    <tr style=\"text-align: right;\">\n",
       "      <th></th>\n",
       "      <th>train_id</th>\n",
       "      <th>name</th>\n",
       "      <th>item_condition_id</th>\n",
       "      <th>category_name</th>\n",
       "      <th>brand_name</th>\n",
       "      <th>price</th>\n",
       "      <th>shipping</th>\n",
       "      <th>item_description</th>\n",
       "      <th>test_id</th>\n",
       "      <th>sex</th>\n",
       "      <th>elec</th>\n",
       "      <th>celine</th>\n",
       "      <th>apple</th>\n",
       "    </tr>\n",
       "  </thead>\n",
       "  <tbody>\n",
       "    <tr>\n",
       "      <th>0</th>\n",
       "      <td>0.0</td>\n",
       "      <td>1947660</td>\n",
       "      <td>3</td>\n",
       "      <td>864</td>\n",
       "      <td>6286</td>\n",
       "      <td>10.0</td>\n",
       "      <td>1</td>\n",
       "      <td>2597284</td>\n",
       "      <td>NaN</td>\n",
       "      <td>2</td>\n",
       "      <td>0</td>\n",
       "      <td>0</td>\n",
       "      <td>0</td>\n",
       "    </tr>\n",
       "    <tr>\n",
       "      <th>1</th>\n",
       "      <td>1.0</td>\n",
       "      <td>2748291</td>\n",
       "      <td>3</td>\n",
       "      <td>87</td>\n",
       "      <td>4660</td>\n",
       "      <td>52.0</td>\n",
       "      <td>0</td>\n",
       "      <td>3515053</td>\n",
       "      <td>NaN</td>\n",
       "      <td>0</td>\n",
       "      <td>1</td>\n",
       "      <td>0</td>\n",
       "      <td>0</td>\n",
       "    </tr>\n",
       "    <tr>\n",
       "      <th>2</th>\n",
       "      <td>2.0</td>\n",
       "      <td>280690</td>\n",
       "      <td>1</td>\n",
       "      <td>1320</td>\n",
       "      <td>5489</td>\n",
       "      <td>10.0</td>\n",
       "      <td>1</td>\n",
       "      <td>368759</td>\n",
       "      <td>NaN</td>\n",
       "      <td>1</td>\n",
       "      <td>0</td>\n",
       "      <td>0</td>\n",
       "      <td>0</td>\n",
       "    </tr>\n",
       "    <tr>\n",
       "      <th>3</th>\n",
       "      <td>3.0</td>\n",
       "      <td>1707130</td>\n",
       "      <td>1</td>\n",
       "      <td>536</td>\n",
       "      <td>6286</td>\n",
       "      <td>35.0</td>\n",
       "      <td>1</td>\n",
       "      <td>2518182</td>\n",
       "      <td>NaN</td>\n",
       "      <td>0</td>\n",
       "      <td>0</td>\n",
       "      <td>0</td>\n",
       "      <td>0</td>\n",
       "    </tr>\n",
       "    <tr>\n",
       "      <th>4</th>\n",
       "      <td>4.0</td>\n",
       "      <td>139775</td>\n",
       "      <td>1</td>\n",
       "      <td>1247</td>\n",
       "      <td>6286</td>\n",
       "      <td>44.0</td>\n",
       "      <td>0</td>\n",
       "      <td>1174303</td>\n",
       "      <td>NaN</td>\n",
       "      <td>1</td>\n",
       "      <td>0</td>\n",
       "      <td>0</td>\n",
       "      <td>0</td>\n",
       "    </tr>\n",
       "    <tr>\n",
       "      <th>...</th>\n",
       "      <td>...</td>\n",
       "      <td>...</td>\n",
       "      <td>...</td>\n",
       "      <td>...</td>\n",
       "      <td>...</td>\n",
       "      <td>...</td>\n",
       "      <td>...</td>\n",
       "      <td>...</td>\n",
       "      <td>...</td>\n",
       "      <td>...</td>\n",
       "      <td>...</td>\n",
       "      <td>...</td>\n",
       "      <td>...</td>\n",
       "    </tr>\n",
       "    <tr>\n",
       "      <th>4943255</th>\n",
       "      <td>NaN</td>\n",
       "      <td>944100</td>\n",
       "      <td>1</td>\n",
       "      <td>11</td>\n",
       "      <td>6286</td>\n",
       "      <td>NaN</td>\n",
       "      <td>1</td>\n",
       "      <td>1834853</td>\n",
       "      <td>3460720.0</td>\n",
       "      <td>1</td>\n",
       "      <td>0</td>\n",
       "      <td>0</td>\n",
       "      <td>0</td>\n",
       "    </tr>\n",
       "    <tr>\n",
       "      <th>4943256</th>\n",
       "      <td>NaN</td>\n",
       "      <td>3604650</td>\n",
       "      <td>2</td>\n",
       "      <td>1268</td>\n",
       "      <td>6286</td>\n",
       "      <td>NaN</td>\n",
       "      <td>1</td>\n",
       "      <td>4105029</td>\n",
       "      <td>3460721.0</td>\n",
       "      <td>1</td>\n",
       "      <td>0</td>\n",
       "      <td>0</td>\n",
       "      <td>0</td>\n",
       "    </tr>\n",
       "    <tr>\n",
       "      <th>4943257</th>\n",
       "      <td>NaN</td>\n",
       "      <td>3143603</td>\n",
       "      <td>3</td>\n",
       "      <td>679</td>\n",
       "      <td>4020</td>\n",
       "      <td>NaN</td>\n",
       "      <td>0</td>\n",
       "      <td>3080966</td>\n",
       "      <td>3460722.0</td>\n",
       "      <td>0</td>\n",
       "      <td>0</td>\n",
       "      <td>0</td>\n",
       "      <td>0</td>\n",
       "    </tr>\n",
       "    <tr>\n",
       "      <th>4943258</th>\n",
       "      <td>NaN</td>\n",
       "      <td>3566603</td>\n",
       "      <td>1</td>\n",
       "      <td>1279</td>\n",
       "      <td>4945</td>\n",
       "      <td>NaN</td>\n",
       "      <td>1</td>\n",
       "      <td>4060816</td>\n",
       "      <td>3460723.0</td>\n",
       "      <td>1</td>\n",
       "      <td>0</td>\n",
       "      <td>0</td>\n",
       "      <td>0</td>\n",
       "    </tr>\n",
       "    <tr>\n",
       "      <th>4943259</th>\n",
       "      <td>NaN</td>\n",
       "      <td>3028290</td>\n",
       "      <td>3</td>\n",
       "      <td>1217</td>\n",
       "      <td>6286</td>\n",
       "      <td>NaN</td>\n",
       "      <td>1</td>\n",
       "      <td>117972</td>\n",
       "      <td>3460724.0</td>\n",
       "      <td>1</td>\n",
       "      <td>0</td>\n",
       "      <td>0</td>\n",
       "      <td>0</td>\n",
       "    </tr>\n",
       "  </tbody>\n",
       "</table>\n",
       "<p>4943260 rows × 13 columns</p>\n",
       "</div>"
      ],
      "text/plain": [
       "         train_id     name  item_condition_id category_name brand_name  price  \\\n",
       "0             0.0  1947660                  3           864       6286   10.0   \n",
       "1             1.0  2748291                  3            87       4660   52.0   \n",
       "2             2.0   280690                  1          1320       5489   10.0   \n",
       "3             3.0  1707130                  1           536       6286   35.0   \n",
       "4             4.0   139775                  1          1247       6286   44.0   \n",
       "...           ...      ...                ...           ...        ...    ...   \n",
       "4943255       NaN   944100                  1            11       6286    NaN   \n",
       "4943256       NaN  3604650                  2          1268       6286    NaN   \n",
       "4943257       NaN  3143603                  3           679       4020    NaN   \n",
       "4943258       NaN  3566603                  1          1279       4945    NaN   \n",
       "4943259       NaN  3028290                  3          1217       6286    NaN   \n",
       "\n",
       "         shipping item_description    test_id  sex  elec  celine  apple  \n",
       "0               1          2597284        NaN    2     0       0      0  \n",
       "1               0          3515053        NaN    0     1       0      0  \n",
       "2               1           368759        NaN    1     0       0      0  \n",
       "3               1          2518182        NaN    0     0       0      0  \n",
       "4               0          1174303        NaN    1     0       0      0  \n",
       "...           ...              ...        ...  ...   ...     ...    ...  \n",
       "4943255         1          1834853  3460720.0    1     0       0      0  \n",
       "4943256         1          4105029  3460721.0    1     0       0      0  \n",
       "4943257         0          3080966  3460722.0    0     0       0      0  \n",
       "4943258         1          4060816  3460723.0    1     0       0      0  \n",
       "4943259         1           117972  3460724.0    1     0       0      0  \n",
       "\n",
       "[4943260 rows x 13 columns]"
      ]
     },
     "execution_count": 27,
     "metadata": {},
     "output_type": "execute_result"
    }
   ],
   "source": [
    "all_df"
   ]
  },
  {
   "cell_type": "code",
   "execution_count": 28,
   "metadata": {},
   "outputs": [],
   "source": [
    "train_df_le = all_df[~all_df[\"price\"].isnull()]\n",
    "test_df_le = all_df[all_df[\"price\"].isnull()]"
   ]
  },
  {
   "cell_type": "code",
   "execution_count": 29,
   "metadata": {},
   "outputs": [],
   "source": [
    "import lightgbm as lgb"
   ]
  },
  {
   "cell_type": "code",
   "execution_count": 30,
   "metadata": {},
   "outputs": [],
   "source": [
    "from sklearn.model_selection import KFold\n",
    "folds = 3\n",
    "kf = KFold(n_splits=folds)"
   ]
  },
  {
   "cell_type": "code",
   "execution_count": 31,
   "metadata": {},
   "outputs": [],
   "source": [
    "lgbm_params = {\n",
    "    \"objective\":\"regression\",\n",
    "    \"random_seed\":1234,\n",
    "}"
   ]
  },
  {
   "cell_type": "code",
   "execution_count": 32,
   "metadata": {},
   "outputs": [],
   "source": [
    "train_X = train_df_le.drop([\"price\",\"train_id\"],axis=1)\n",
    "train_Y = train_df_le[\"price\"]"
   ]
  },
  {
   "cell_type": "code",
   "execution_count": 33,
   "metadata": {},
   "outputs": [],
   "source": [
    "def rmsle(y, y0):\n",
    "     assert len(y) == len(y0)\n",
    "     return np.sqrt(np.mean(np.power(np.log1p(y)-np.log1p(y0), 2)))"
   ]
  },
  {
   "cell_type": "code",
   "execution_count": 34,
   "metadata": {},
   "outputs": [
    {
     "name": "stdout",
     "output_type": "stream",
     "text": [
      "[LightGBM] [Warning] Auto-choosing row-wise multi-threading, the overhead of testing was 0.016447 seconds.\n",
      "You can set `force_row_wise=true` to remove the overhead.\n",
      "And if memory is not enough, you can set `force_col_wise=true`.\n",
      "[LightGBM] [Info] Total Bins 5368\n",
      "[LightGBM] [Info] Number of data points in the train set: 988356, number of used features: 10\n"
     ]
    },
    {
     "name": "stderr",
     "output_type": "stream",
     "text": [
      "C:\\Users\\okefu\\Anaconda3\\lib\\site-packages\\lightgbm\\basic.py:1286: UserWarning: Overriding the parameters from Reference Dataset.\n",
      "  warnings.warn('Overriding the parameters from Reference Dataset.')\n",
      "C:\\Users\\okefu\\Anaconda3\\lib\\site-packages\\lightgbm\\basic.py:1098: UserWarning: categorical_column in param dict is overridden.\n",
      "  warnings.warn('{} in param dict is overridden.'.format(cat_alias))\n"
     ]
    },
    {
     "name": "stdout",
     "output_type": "stream",
     "text": [
      "[LightGBM] [Info] Start training from score 26.749067\n",
      "Training until validation scores don't improve for 20 rounds\n",
      "[100]\tvalid_0's l2: 954.732\n",
      "[200]\tvalid_0's l2: 949.411\n",
      "[300]\tvalid_0's l2: 947.915\n",
      "Early stopping, best iteration is:\n",
      "[306]\tvalid_0's l2: 947.812\n",
      "y_pred:[11.64994994 57.22877361 10.34934064 ... 13.28803572 21.48476641\n",
      " 13.38455961]\n",
      "tmp_rmsle:0.5914071096760947\n"
     ]
    },
    {
     "name": "stderr",
     "output_type": "stream",
     "text": [
      "C:\\Users\\okefu\\Anaconda3\\lib\\site-packages\\ipykernel_launcher.py:3: RuntimeWarning: invalid value encountered in log1p\n",
      "  This is separate from the ipykernel package so we can avoid doing imports until\n"
     ]
    },
    {
     "name": "stdout",
     "output_type": "stream",
     "text": [
      "[LightGBM] [Warning] Auto-choosing row-wise multi-threading, the overhead of testing was 0.015943 seconds.\n",
      "You can set `force_row_wise=true` to remove the overhead.\n",
      "And if memory is not enough, you can set `force_col_wise=true`.\n",
      "[LightGBM] [Info] Total Bins 5372\n",
      "[LightGBM] [Info] Number of data points in the train set: 988357, number of used features: 10\n",
      "[LightGBM] [Info] Start training from score 26.716268\n",
      "Training until validation scores don't improve for 20 rounds\n",
      "[100]\tvalid_0's l2: 946.45\n",
      "[200]\tvalid_0's l2: 942.189\n",
      "[300]\tvalid_0's l2: 941.019\n",
      "Early stopping, best iteration is:\n",
      "[304]\tvalid_0's l2: 940.94\n",
      "y_pred:[13.32664712 17.81217837 24.47762138 ... 28.59880812 16.6029249\n",
      " 10.22674604]\n",
      "tmp_rmsle:0.5919853281031677\n",
      "[LightGBM] [Warning] Auto-choosing row-wise multi-threading, the overhead of testing was 0.014319 seconds.\n",
      "You can set `force_row_wise=true` to remove the overhead.\n",
      "And if memory is not enough, you can set `force_col_wise=true`.\n",
      "[LightGBM] [Info] Total Bins 5400\n",
      "[LightGBM] [Info] Number of data points in the train set: 988357, number of used features: 10\n",
      "[LightGBM] [Info] Start training from score 26.747213\n",
      "Training until validation scores don't improve for 20 rounds\n",
      "[100]\tvalid_0's l2: 941.936\n",
      "[200]\tvalid_0's l2: 936.549\n",
      "[300]\tvalid_0's l2: 934.524\n",
      "Early stopping, best iteration is:\n",
      "[366]\tvalid_0's l2: 933.546\n",
      "y_pred:[19.53185084 11.06921836 12.16515971 ... 19.75795742 15.02929534\n",
      " 28.68785763]\n",
      "tmp_rmsle:0.5906474161090387\n"
     ]
    }
   ],
   "source": [
    "models = []\n",
    "rmsles = []\n",
    "oof = np.zeros(len(train_X))\n",
    "for train_index,val_index in kf.split(train_X):\n",
    "    X_train = train_X.iloc[train_index]\n",
    "    X_valid = train_X.iloc[val_index]\n",
    "    y_train = train_Y.iloc[train_index]\n",
    "    y_valid = train_Y.iloc[val_index]\n",
    "    lgb_train = lgb.Dataset(X_train,y_train)\n",
    "    lgb_eval = lgb.Dataset(X_valid,y_valid,reference=lgb_train)\n",
    "    model_lgb = lgb.train(lgbm_params,\n",
    "                         lgb_train,\n",
    "                         valid_sets=lgb_eval,\n",
    "                         num_boost_round=1000,\n",
    "                         early_stopping_rounds=20,\n",
    "                         verbose_eval=100,\n",
    "                         )\n",
    "    y_pred = model_lgb.predict(X_valid, num_iteration=model_lgb.best_iteration)\n",
    "    print(f'y_pred:{y_pred}')\n",
    "    tmp_rmsle = rmsle(y_pred, y_valid)\n",
    "    print(f'tmp_rmsle:{tmp_rmsle}')\n",
    "    models.append(model_lgb)\n",
    "    rmsles.append(tmp_rmsle)\n",
    "    oof[val_index] = y_pred"
   ]
  },
  {
   "cell_type": "code",
   "execution_count": 35,
   "metadata": {},
   "outputs": [
    {
     "data": {
      "text/plain": [
       "0.591346617962767"
      ]
     },
     "execution_count": 35,
     "metadata": {},
     "output_type": "execute_result"
    }
   ],
   "source": [
    "sum(rmsles)/len(rmsles)"
   ]
  },
  {
   "cell_type": "code",
   "execution_count": null,
   "metadata": {},
   "outputs": [],
   "source": []
  }
 ],
 "metadata": {
  "kernelspec": {
   "display_name": "Python 3",
   "language": "python",
   "name": "python3"
  },
  "language_info": {
   "codemirror_mode": {
    "name": "ipython",
    "version": 3
   },
   "file_extension": ".py",
   "mimetype": "text/x-python",
   "name": "python",
   "nbconvert_exporter": "python",
   "pygments_lexer": "ipython3",
   "version": "3.7.9"
  }
 },
 "nbformat": 4,
 "nbformat_minor": 4
}
